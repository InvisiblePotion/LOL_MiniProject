{
 "cells": [
  {
   "cell_type": "code",
   "execution_count": 1,
   "id": "65c06892",
   "metadata": {},
   "outputs": [
    {
     "data": {
      "text/html": [
       "        <script type=\"text/javascript\">\n",
       "        window.PlotlyConfig = {MathJaxConfig: 'local'};\n",
       "        if (window.MathJax && window.MathJax.Hub && window.MathJax.Hub.Config) {window.MathJax.Hub.Config({SVG: {font: \"STIX-Web\"}});}\n",
       "        if (typeof require !== 'undefined') {\n",
       "        require.undef(\"plotly\");\n",
       "        requirejs.config({\n",
       "            paths: {\n",
       "                'plotly': ['https://cdn.plot.ly/plotly-2.12.1.min']\n",
       "            }\n",
       "        });\n",
       "        require(['plotly'], function(Plotly) {\n",
       "            window._Plotly = Plotly;\n",
       "        });\n",
       "        }\n",
       "        </script>\n",
       "        "
      ]
     },
     "metadata": {},
     "output_type": "display_data"
    }
   ],
   "source": [
    "import bs4\n",
    "import pandas as pd\n",
    "import requests\n",
    "import cx_Oracle\n",
    "import pymysql\n",
    "from tqdm import tqdm\n",
    "import project_utils as mu \n",
    "import time\n",
    "import random \n",
    "import matplotlib.pyplot as plt\n",
    "from matplotlib import font_manager, rc\n",
    "font_path = 'C:/Windows/Fonts/gulim.ttc'\n",
    "font = font_manager.FontProperties(fname=font_path).get_name()\n",
    "rc('font',family = font)\n",
    "import numpy as np\n",
    "import seaborn as sns\n",
    "import plotly\n",
    "import plotly.graph_objs as go\n",
    "plotly.offline.init_notebook_mode(connected = True)\n",
    "import plotly.express as px"
   ]
  },
  {
   "cell_type": "code",
   "execution_count": 2,
   "id": "62da5e19",
   "metadata": {},
   "outputs": [
    {
     "name": "stdout",
     "output_type": "stream",
     "text": [
      "oracle open!\n"
     ]
    },
    {
     "name": "stderr",
     "output_type": "stream",
     "text": [
      "C:\\Users\\user\\Anaconda3\\lib\\site-packages\\pandas\\io\\sql.py:762: UserWarning:\n",
      "\n",
      "pandas only support SQLAlchemy connectable(engine/connection) ordatabase string URI or sqlite3 DBAPI2 connectionother DBAPI2 objects are not tested, please consider using SQLAlchemy\n",
      "\n"
     ]
    },
    {
     "data": {
      "text/plain": [
       "'오라클 닫힘'"
      ]
     },
     "execution_count": 2,
     "metadata": {},
     "output_type": "execute_result"
    }
   ],
   "source": [
    "mu.db_open()\n",
    "my_df = mu.oracle_execute('select * from LOL_MP')\n",
    "mu.oracle_close()"
   ]
  },
  {
   "cell_type": "code",
   "execution_count": 5,
   "id": "694b62cd",
   "metadata": {},
   "outputs": [
    {
     "name": "stderr",
     "output_type": "stream",
     "text": [
      "C:\\Users\\user\\AppData\\Local\\Temp\\ipykernel_4488\\595476455.py:9: SettingWithCopyWarning:\n",
      "\n",
      "\n",
      "A value is trying to be set on a copy of a slice from a DataFrame.\n",
      "Try using .loc[row_indexer,col_indexer] = value instead\n",
      "\n",
      "See the caveats in the documentation: https://pandas.pydata.org/pandas-docs/stable/user_guide/indexing.html#returning-a-view-versus-a-copy\n",
      "\n"
     ]
    },
    {
     "data": {
      "application/vnd.plotly.v1+json": {
       "config": {
        "linkText": "Export to plot.ly",
        "plotlyServerURL": "https://plot.ly",
        "showLink": false
       },
       "data": [
        {
         "hovertemplate": "color=Aatrox<br>APCNT=%{x}<br>STEALRATE=%{y}<extra></extra>",
         "legendgroup": "Aatrox",
         "marker": {
          "color": "#636efa",
          "symbol": "circle"
         },
         "mode": "markers",
         "name": "Aatrox",
         "orientation": "v",
         "showlegend": true,
         "type": "scatter",
         "x": [
          501
         ],
         "xaxis": "x",
         "y": [
          0.6
         ],
         "yaxis": "y"
        },
        {
         "hovertemplate": "color=Ahri<br>APCNT=%{x}<br>STEALRATE=%{y}<extra></extra>",
         "legendgroup": "Ahri",
         "marker": {
          "color": "#EF553B",
          "symbol": "circle"
         },
         "mode": "markers",
         "name": "Ahri",
         "orientation": "v",
         "showlegend": true,
         "type": "scatter",
         "x": [
          879
         ],
         "xaxis": "x",
         "y": [
          0.8
         ],
         "yaxis": "y"
        },
        {
         "hovertemplate": "color=Akali<br>APCNT=%{x}<br>STEALRATE=%{y}<extra></extra>",
         "legendgroup": "Akali",
         "marker": {
          "color": "#00cc96",
          "symbol": "circle"
         },
         "mode": "markers",
         "name": "Akali",
         "orientation": "v",
         "showlegend": true,
         "type": "scatter",
         "x": [
          943
         ],
         "xaxis": "x",
         "y": [
          0.53
         ],
         "yaxis": "y"
        },
        {
         "hovertemplate": "color=Akshan<br>APCNT=%{x}<br>STEALRATE=%{y}<extra></extra>",
         "legendgroup": "Akshan",
         "marker": {
          "color": "#ab63fa",
          "symbol": "circle"
         },
         "mode": "markers",
         "name": "Akshan",
         "orientation": "v",
         "showlegend": true,
         "type": "scatter",
         "x": [
          376
         ],
         "xaxis": "x",
         "y": [
          0.27
         ],
         "yaxis": "y"
        },
        {
         "hovertemplate": "color=Alistar<br>APCNT=%{x}<br>STEALRATE=%{y}<extra></extra>",
         "legendgroup": "Alistar",
         "marker": {
          "color": "#FFA15A",
          "symbol": "circle"
         },
         "mode": "markers",
         "name": "Alistar",
         "orientation": "v",
         "showlegend": true,
         "type": "scatter",
         "x": [
          520
         ],
         "xaxis": "x",
         "y": [
          0.38
         ],
         "yaxis": "y"
        },
        {
         "hovertemplate": "color=Amumu<br>APCNT=%{x}<br>STEALRATE=%{y}<extra></extra>",
         "legendgroup": "Amumu",
         "marker": {
          "color": "#19d3f3",
          "symbol": "circle"
         },
         "mode": "markers",
         "name": "Amumu",
         "orientation": "v",
         "showlegend": true,
         "type": "scatter",
         "x": [
          680
         ],
         "xaxis": "x",
         "y": [
          1.91
         ],
         "yaxis": "y"
        },
        {
         "hovertemplate": "color=Anivia<br>APCNT=%{x}<br>STEALRATE=%{y}<extra></extra>",
         "legendgroup": "Anivia",
         "marker": {
          "color": "#FF6692",
          "symbol": "circle"
         },
         "mode": "markers",
         "name": "Anivia",
         "orientation": "v",
         "showlegend": true,
         "type": "scatter",
         "x": [
          363
         ],
         "xaxis": "x",
         "y": [
          0.83
         ],
         "yaxis": "y"
        },
        {
         "hovertemplate": "color=Aphelios<br>APCNT=%{x}<br>STEALRATE=%{y}<extra></extra>",
         "legendgroup": "Aphelios",
         "marker": {
          "color": "#B6E880",
          "symbol": "circle"
         },
         "mode": "markers",
         "name": "Aphelios",
         "orientation": "v",
         "showlegend": true,
         "type": "scatter",
         "x": [
          408
         ],
         "xaxis": "x",
         "y": [
          0.49
         ],
         "yaxis": "y"
        },
        {
         "hovertemplate": "color=Ashe<br>APCNT=%{x}<br>STEALRATE=%{y}<extra></extra>",
         "legendgroup": "Ashe",
         "marker": {
          "color": "#FF97FF",
          "symbol": "circle"
         },
         "mode": "markers",
         "name": "Ashe",
         "orientation": "v",
         "showlegend": true,
         "type": "scatter",
         "x": [
          1252
         ],
         "xaxis": "x",
         "y": [
          0.5599999999999999
         ],
         "yaxis": "y"
        },
        {
         "hovertemplate": "color=AurelionSol<br>APCNT=%{x}<br>STEALRATE=%{y}<extra></extra>",
         "legendgroup": "AurelionSol",
         "marker": {
          "color": "#FECB52",
          "symbol": "circle"
         },
         "mode": "markers",
         "name": "AurelionSol",
         "orientation": "v",
         "showlegend": true,
         "type": "scatter",
         "x": [
          1118
         ],
         "xaxis": "x",
         "y": [
          1.0699999999999998
         ],
         "yaxis": "y"
        },
        {
         "hovertemplate": "color=Azir<br>APCNT=%{x}<br>STEALRATE=%{y}<extra></extra>",
         "legendgroup": "Azir",
         "marker": {
          "color": "#636efa",
          "symbol": "circle"
         },
         "mode": "markers",
         "name": "Azir",
         "orientation": "v",
         "showlegend": true,
         "type": "scatter",
         "x": [
          264
         ],
         "xaxis": "x",
         "y": [
          0.76
         ],
         "yaxis": "y"
        },
        {
         "hovertemplate": "color=Belveth<br>APCNT=%{x}<br>STEALRATE=%{y}<extra></extra>",
         "legendgroup": "Belveth",
         "marker": {
          "color": "#EF553B",
          "symbol": "circle"
         },
         "mode": "markers",
         "name": "Belveth",
         "orientation": "v",
         "showlegend": true,
         "type": "scatter",
         "x": [
          273
         ],
         "xaxis": "x",
         "y": [
          3.3000000000000003
         ],
         "yaxis": "y"
        },
        {
         "hovertemplate": "color=Blitzcrank<br>APCNT=%{x}<br>STEALRATE=%{y}<extra></extra>",
         "legendgroup": "Blitzcrank",
         "marker": {
          "color": "#00cc96",
          "symbol": "circle"
         },
         "mode": "markers",
         "name": "Blitzcrank",
         "orientation": "v",
         "showlegend": true,
         "type": "scatter",
         "x": [
          1428
         ],
         "xaxis": "x",
         "y": [
          0.42
         ],
         "yaxis": "y"
        },
        {
         "hovertemplate": "color=Brand<br>APCNT=%{x}<br>STEALRATE=%{y}<extra></extra>",
         "legendgroup": "Brand",
         "marker": {
          "color": "#ab63fa",
          "symbol": "circle"
         },
         "mode": "markers",
         "name": "Brand",
         "orientation": "v",
         "showlegend": true,
         "type": "scatter",
         "x": [
          291
         ],
         "xaxis": "x",
         "y": [
          2.06
         ],
         "yaxis": "y"
        },
        {
         "hovertemplate": "color=Caitlyn<br>APCNT=%{x}<br>STEALRATE=%{y}<extra></extra>",
         "legendgroup": "Caitlyn",
         "marker": {
          "color": "#FFA15A",
          "symbol": "circle"
         },
         "mode": "markers",
         "name": "Caitlyn",
         "orientation": "v",
         "showlegend": true,
         "type": "scatter",
         "x": [
          1571
         ],
         "xaxis": "x",
         "y": [
          0.38
         ],
         "yaxis": "y"
        },
        {
         "hovertemplate": "color=Camille<br>APCNT=%{x}<br>STEALRATE=%{y}<extra></extra>",
         "legendgroup": "Camille",
         "marker": {
          "color": "#19d3f3",
          "symbol": "circle"
         },
         "mode": "markers",
         "name": "Camille",
         "orientation": "v",
         "showlegend": true,
         "type": "scatter",
         "x": [
          425
         ],
         "xaxis": "x",
         "y": [
          0.24
         ],
         "yaxis": "y"
        },
        {
         "hovertemplate": "color=Cassiopeia<br>APCNT=%{x}<br>STEALRATE=%{y}<extra></extra>",
         "legendgroup": "Cassiopeia",
         "marker": {
          "color": "#FF6692",
          "symbol": "circle"
         },
         "mode": "markers",
         "name": "Cassiopeia",
         "orientation": "v",
         "showlegend": true,
         "type": "scatter",
         "x": [
          441
         ],
         "xaxis": "x",
         "y": [
          0.6799999999999999
         ],
         "yaxis": "y"
        },
        {
         "hovertemplate": "color=Chogath<br>APCNT=%{x}<br>STEALRATE=%{y}<extra></extra>",
         "legendgroup": "Chogath",
         "marker": {
          "color": "#B6E880",
          "symbol": "circle"
         },
         "mode": "markers",
         "name": "Chogath",
         "orientation": "v",
         "showlegend": true,
         "type": "scatter",
         "x": [
          667
         ],
         "xaxis": "x",
         "y": [
          2.4
         ],
         "yaxis": "y"
        },
        {
         "hovertemplate": "color=Darius<br>APCNT=%{x}<br>STEALRATE=%{y}<extra></extra>",
         "legendgroup": "Darius",
         "marker": {
          "color": "#FF97FF",
          "symbol": "circle"
         },
         "mode": "markers",
         "name": "Darius",
         "orientation": "v",
         "showlegend": true,
         "type": "scatter",
         "x": [
          793
         ],
         "xaxis": "x",
         "y": [
          0.63
         ],
         "yaxis": "y"
        },
        {
         "hovertemplate": "color=Diana<br>APCNT=%{x}<br>STEALRATE=%{y}<extra></extra>",
         "legendgroup": "Diana",
         "marker": {
          "color": "#FECB52",
          "symbol": "circle"
         },
         "mode": "markers",
         "name": "Diana",
         "orientation": "v",
         "showlegend": true,
         "type": "scatter",
         "x": [
          469
         ],
         "xaxis": "x",
         "y": [
          4.6899999999999995
         ],
         "yaxis": "y"
        },
        {
         "hovertemplate": "color=DrMundo<br>APCNT=%{x}<br>STEALRATE=%{y}<extra></extra>",
         "legendgroup": "DrMundo",
         "marker": {
          "color": "#636efa",
          "symbol": "circle"
         },
         "mode": "markers",
         "name": "DrMundo",
         "orientation": "v",
         "showlegend": true,
         "type": "scatter",
         "x": [
          191
         ],
         "xaxis": "x",
         "y": [
          1.05
         ],
         "yaxis": "y"
        },
        {
         "hovertemplate": "color=Draven<br>APCNT=%{x}<br>STEALRATE=%{y}<extra></extra>",
         "legendgroup": "Draven",
         "marker": {
          "color": "#EF553B",
          "symbol": "circle"
         },
         "mode": "markers",
         "name": "Draven",
         "orientation": "v",
         "showlegend": true,
         "type": "scatter",
         "x": [
          397
         ],
         "xaxis": "x",
         "y": [
          1.51
         ],
         "yaxis": "y"
        },
        {
         "hovertemplate": "color=Ekko<br>APCNT=%{x}<br>STEALRATE=%{y}<extra></extra>",
         "legendgroup": "Ekko",
         "marker": {
          "color": "#00cc96",
          "symbol": "circle"
         },
         "mode": "markers",
         "name": "Ekko",
         "orientation": "v",
         "showlegend": true,
         "type": "scatter",
         "x": [
          820
         ],
         "xaxis": "x",
         "y": [
          7.4399999999999995
         ],
         "yaxis": "y"
        },
        {
         "hovertemplate": "color=Elise<br>APCNT=%{x}<br>STEALRATE=%{y}<extra></extra>",
         "legendgroup": "Elise",
         "marker": {
          "color": "#ab63fa",
          "symbol": "circle"
         },
         "mode": "markers",
         "name": "Elise",
         "orientation": "v",
         "showlegend": true,
         "type": "scatter",
         "x": [
          572
         ],
         "xaxis": "x",
         "y": [
          6.12
         ],
         "yaxis": "y"
        },
        {
         "hovertemplate": "color=Evelynn<br>APCNT=%{x}<br>STEALRATE=%{y}<extra></extra>",
         "legendgroup": "Evelynn",
         "marker": {
          "color": "#FFA15A",
          "symbol": "circle"
         },
         "mode": "markers",
         "name": "Evelynn",
         "orientation": "v",
         "showlegend": true,
         "type": "scatter",
         "x": [
          288
         ],
         "xaxis": "x",
         "y": [
          7.99
         ],
         "yaxis": "y"
        },
        {
         "hovertemplate": "color=Ezreal<br>APCNT=%{x}<br>STEALRATE=%{y}<extra></extra>",
         "legendgroup": "Ezreal",
         "marker": {
          "color": "#19d3f3",
          "symbol": "circle"
         },
         "mode": "markers",
         "name": "Ezreal",
         "orientation": "v",
         "showlegend": true,
         "type": "scatter",
         "x": [
          2569
         ],
         "xaxis": "x",
         "y": [
          1.5599999999999998
         ],
         "yaxis": "y"
        },
        {
         "hovertemplate": "color=FiddleSticks<br>APCNT=%{x}<br>STEALRATE=%{y}<extra></extra>",
         "legendgroup": "FiddleSticks",
         "marker": {
          "color": "#FF6692",
          "symbol": "circle"
         },
         "mode": "markers",
         "name": "FiddleSticks",
         "orientation": "v",
         "showlegend": true,
         "type": "scatter",
         "x": [
          363
         ],
         "xaxis": "x",
         "y": [
          6.0600000000000005
         ],
         "yaxis": "y"
        },
        {
         "hovertemplate": "color=Fiora<br>APCNT=%{x}<br>STEALRATE=%{y}<extra></extra>",
         "legendgroup": "Fiora",
         "marker": {
          "color": "#B6E880",
          "symbol": "circle"
         },
         "mode": "markers",
         "name": "Fiora",
         "orientation": "v",
         "showlegend": true,
         "type": "scatter",
         "x": [
          666
         ],
         "xaxis": "x",
         "y": [
          0.15
         ],
         "yaxis": "y"
        },
        {
         "hovertemplate": "color=Fizz<br>APCNT=%{x}<br>STEALRATE=%{y}<extra></extra>",
         "legendgroup": "Fizz",
         "marker": {
          "color": "#FF97FF",
          "symbol": "circle"
         },
         "mode": "markers",
         "name": "Fizz",
         "orientation": "v",
         "showlegend": true,
         "type": "scatter",
         "x": [
          365
         ],
         "xaxis": "x",
         "y": [
          0.8200000000000001
         ],
         "yaxis": "y"
        },
        {
         "hovertemplate": "color=Galio<br>APCNT=%{x}<br>STEALRATE=%{y}<extra></extra>",
         "legendgroup": "Galio",
         "marker": {
          "color": "#FECB52",
          "symbol": "circle"
         },
         "mode": "markers",
         "name": "Galio",
         "orientation": "v",
         "showlegend": true,
         "type": "scatter",
         "x": [
          236
         ],
         "xaxis": "x",
         "y": [
          0.42
         ],
         "yaxis": "y"
        },
        {
         "hovertemplate": "color=Gangplank<br>APCNT=%{x}<br>STEALRATE=%{y}<extra></extra>",
         "legendgroup": "Gangplank",
         "marker": {
          "color": "#636efa",
          "symbol": "circle"
         },
         "mode": "markers",
         "name": "Gangplank",
         "orientation": "v",
         "showlegend": true,
         "type": "scatter",
         "x": [
          728
         ],
         "xaxis": "x",
         "y": [
          1.51
         ],
         "yaxis": "y"
        },
        {
         "hovertemplate": "color=Gnar<br>APCNT=%{x}<br>STEALRATE=%{y}<extra></extra>",
         "legendgroup": "Gnar",
         "marker": {
          "color": "#EF553B",
          "symbol": "circle"
         },
         "mode": "markers",
         "name": "Gnar",
         "orientation": "v",
         "showlegend": true,
         "type": "scatter",
         "x": [
          352
         ],
         "xaxis": "x",
         "y": [
          0.27999999999999997
         ],
         "yaxis": "y"
        },
        {
         "hovertemplate": "color=Gragas<br>APCNT=%{x}<br>STEALRATE=%{y}<extra></extra>",
         "legendgroup": "Gragas",
         "marker": {
          "color": "#00cc96",
          "symbol": "circle"
         },
         "mode": "markers",
         "name": "Gragas",
         "orientation": "v",
         "showlegend": true,
         "type": "scatter",
         "x": [
          1146
         ],
         "xaxis": "x",
         "y": [
          4.89
         ],
         "yaxis": "y"
        },
        {
         "hovertemplate": "color=Graves<br>APCNT=%{x}<br>STEALRATE=%{y}<extra></extra>",
         "legendgroup": "Graves",
         "marker": {
          "color": "#ab63fa",
          "symbol": "circle"
         },
         "mode": "markers",
         "name": "Graves",
         "orientation": "v",
         "showlegend": true,
         "type": "scatter",
         "x": [
          557
         ],
         "xaxis": "x",
         "y": [
          5.21
         ],
         "yaxis": "y"
        },
        {
         "hovertemplate": "color=Gwen<br>APCNT=%{x}<br>STEALRATE=%{y}<extra></extra>",
         "legendgroup": "Gwen",
         "marker": {
          "color": "#FFA15A",
          "symbol": "circle"
         },
         "mode": "markers",
         "name": "Gwen",
         "orientation": "v",
         "showlegend": true,
         "type": "scatter",
         "x": [
          223
         ],
         "xaxis": "x",
         "y": [
          0.44999999999999996
         ],
         "yaxis": "y"
        },
        {
         "hovertemplate": "color=Hecarim<br>APCNT=%{x}<br>STEALRATE=%{y}<extra></extra>",
         "legendgroup": "Hecarim",
         "marker": {
          "color": "#19d3f3",
          "symbol": "circle"
         },
         "mode": "markers",
         "name": "Hecarim",
         "orientation": "v",
         "showlegend": true,
         "type": "scatter",
         "x": [
          318
         ],
         "xaxis": "x",
         "y": [
          8.49
         ],
         "yaxis": "y"
        },
        {
         "hovertemplate": "color=Heimerdinger<br>APCNT=%{x}<br>STEALRATE=%{y}<extra></extra>",
         "legendgroup": "Heimerdinger",
         "marker": {
          "color": "#FF6692",
          "symbol": "circle"
         },
         "mode": "markers",
         "name": "Heimerdinger",
         "orientation": "v",
         "showlegend": true,
         "type": "scatter",
         "x": [
          329
         ],
         "xaxis": "x",
         "y": [
          0.61
         ],
         "yaxis": "y"
        },
        {
         "hovertemplate": "color=Illaoi<br>APCNT=%{x}<br>STEALRATE=%{y}<extra></extra>",
         "legendgroup": "Illaoi",
         "marker": {
          "color": "#B6E880",
          "symbol": "circle"
         },
         "mode": "markers",
         "name": "Illaoi",
         "orientation": "v",
         "showlegend": true,
         "type": "scatter",
         "x": [
          575
         ],
         "xaxis": "x",
         "y": [
          0.16999999999999998
         ],
         "yaxis": "y"
        },
        {
         "hovertemplate": "color=Irelia<br>APCNT=%{x}<br>STEALRATE=%{y}<extra></extra>",
         "legendgroup": "Irelia",
         "marker": {
          "color": "#FF97FF",
          "symbol": "circle"
         },
         "mode": "markers",
         "name": "Irelia",
         "orientation": "v",
         "showlegend": true,
         "type": "scatter",
         "x": [
          1221
         ],
         "xaxis": "x",
         "y": [
          0.8200000000000001
         ],
         "yaxis": "y"
        },
        {
         "hovertemplate": "color=Ivern<br>APCNT=%{x}<br>STEALRATE=%{y}<extra></extra>",
         "legendgroup": "Ivern",
         "marker": {
          "color": "#FECB52",
          "symbol": "circle"
         },
         "mode": "markers",
         "name": "Ivern",
         "orientation": "v",
         "showlegend": true,
         "type": "scatter",
         "x": [
          62
         ],
         "xaxis": "x",
         "y": [
          1.6099999999999999
         ],
         "yaxis": "y"
        },
        {
         "hovertemplate": "color=Janna<br>APCNT=%{x}<br>STEALRATE=%{y}<extra></extra>",
         "legendgroup": "Janna",
         "marker": {
          "color": "#636efa",
          "symbol": "circle"
         },
         "mode": "markers",
         "name": "Janna",
         "orientation": "v",
         "showlegend": true,
         "type": "scatter",
         "x": [
          84
         ],
         "xaxis": "x",
         "y": [
          1.1900000000000002
         ],
         "yaxis": "y"
        },
        {
         "hovertemplate": "color=JarvanIV<br>APCNT=%{x}<br>STEALRATE=%{y}<extra></extra>",
         "legendgroup": "JarvanIV",
         "marker": {
          "color": "#EF553B",
          "symbol": "circle"
         },
         "mode": "markers",
         "name": "JarvanIV",
         "orientation": "v",
         "showlegend": true,
         "type": "scatter",
         "x": [
          1458
         ],
         "xaxis": "x",
         "y": [
          7.89
         ],
         "yaxis": "y"
        },
        {
         "hovertemplate": "color=Jax<br>APCNT=%{x}<br>STEALRATE=%{y}<extra></extra>",
         "legendgroup": "Jax",
         "marker": {
          "color": "#00cc96",
          "symbol": "circle"
         },
         "mode": "markers",
         "name": "Jax",
         "orientation": "v",
         "showlegend": true,
         "type": "scatter",
         "x": [
          879
         ],
         "xaxis": "x",
         "y": [
          0.91
         ],
         "yaxis": "y"
        },
        {
         "hovertemplate": "color=Jayce<br>APCNT=%{x}<br>STEALRATE=%{y}<extra></extra>",
         "legendgroup": "Jayce",
         "marker": {
          "color": "#ab63fa",
          "symbol": "circle"
         },
         "mode": "markers",
         "name": "Jayce",
         "orientation": "v",
         "showlegend": true,
         "type": "scatter",
         "x": [
          1232
         ],
         "xaxis": "x",
         "y": [
          0.8099999999999999
         ],
         "yaxis": "y"
        },
        {
         "hovertemplate": "color=Jhin<br>APCNT=%{x}<br>STEALRATE=%{y}<extra></extra>",
         "legendgroup": "Jhin",
         "marker": {
          "color": "#FFA15A",
          "symbol": "circle"
         },
         "mode": "markers",
         "name": "Jhin",
         "orientation": "v",
         "showlegend": true,
         "type": "scatter",
         "x": [
          1618
         ],
         "xaxis": "x",
         "y": [
          1.17
         ],
         "yaxis": "y"
        },
        {
         "hovertemplate": "color=Jinx<br>APCNT=%{x}<br>STEALRATE=%{y}<extra></extra>",
         "legendgroup": "Jinx",
         "marker": {
          "color": "#19d3f3",
          "symbol": "circle"
         },
         "mode": "markers",
         "name": "Jinx",
         "orientation": "v",
         "showlegend": true,
         "type": "scatter",
         "x": [
          2157
         ],
         "xaxis": "x",
         "y": [
          2.32
         ],
         "yaxis": "y"
        },
        {
         "hovertemplate": "color=KSante<br>APCNT=%{x}<br>STEALRATE=%{y}<extra></extra>",
         "legendgroup": "KSante",
         "marker": {
          "color": "#FF6692",
          "symbol": "circle"
         },
         "mode": "markers",
         "name": "KSante",
         "orientation": "v",
         "showlegend": true,
         "type": "scatter",
         "x": [
          499
         ],
         "xaxis": "x",
         "y": [
          0.2
         ],
         "yaxis": "y"
        },
        {
         "hovertemplate": "color=Kaisa<br>APCNT=%{x}<br>STEALRATE=%{y}<extra></extra>",
         "legendgroup": "Kaisa",
         "marker": {
          "color": "#B6E880",
          "symbol": "circle"
         },
         "mode": "markers",
         "name": "Kaisa",
         "orientation": "v",
         "showlegend": true,
         "type": "scatter",
         "x": [
          1955
         ],
         "xaxis": "x",
         "y": [
          0.5599999999999999
         ],
         "yaxis": "y"
        },
        {
         "hovertemplate": "color=Karma<br>APCNT=%{x}<br>STEALRATE=%{y}<extra></extra>",
         "legendgroup": "Karma",
         "marker": {
          "color": "#FF97FF",
          "symbol": "circle"
         },
         "mode": "markers",
         "name": "Karma",
         "orientation": "v",
         "showlegend": true,
         "type": "scatter",
         "x": [
          882
         ],
         "xaxis": "x",
         "y": [
          0.44999999999999996
         ],
         "yaxis": "y"
        },
        {
         "hovertemplate": "color=Karthus<br>APCNT=%{x}<br>STEALRATE=%{y}<extra></extra>",
         "legendgroup": "Karthus",
         "marker": {
          "color": "#FECB52",
          "symbol": "circle"
         },
         "mode": "markers",
         "name": "Karthus",
         "orientation": "v",
         "showlegend": true,
         "type": "scatter",
         "x": [
          277
         ],
         "xaxis": "x",
         "y": [
          2.8899999999999997
         ],
         "yaxis": "y"
        },
        {
         "hovertemplate": "color=Kassadin<br>APCNT=%{x}<br>STEALRATE=%{y}<extra></extra>",
         "legendgroup": "Kassadin",
         "marker": {
          "color": "#636efa",
          "symbol": "circle"
         },
         "mode": "markers",
         "name": "Kassadin",
         "orientation": "v",
         "showlegend": true,
         "type": "scatter",
         "x": [
          295
         ],
         "xaxis": "x",
         "y": [
          0.6799999999999999
         ],
         "yaxis": "y"
        },
        {
         "hovertemplate": "color=Katarina<br>APCNT=%{x}<br>STEALRATE=%{y}<extra></extra>",
         "legendgroup": "Katarina",
         "marker": {
          "color": "#EF553B",
          "symbol": "circle"
         },
         "mode": "markers",
         "name": "Katarina",
         "orientation": "v",
         "showlegend": true,
         "type": "scatter",
         "x": [
          567
         ],
         "xaxis": "x",
         "y": [
          0.7100000000000001
         ],
         "yaxis": "y"
        },
        {
         "hovertemplate": "color=Kayn<br>APCNT=%{x}<br>STEALRATE=%{y}<extra></extra>",
         "legendgroup": "Kayn",
         "marker": {
          "color": "#00cc96",
          "symbol": "circle"
         },
         "mode": "markers",
         "name": "Kayn",
         "orientation": "v",
         "showlegend": true,
         "type": "scatter",
         "x": [
          686
         ],
         "xaxis": "x",
         "y": [
          9.77
         ],
         "yaxis": "y"
        },
        {
         "hovertemplate": "color=Kennen<br>APCNT=%{x}<br>STEALRATE=%{y}<extra></extra>",
         "legendgroup": "Kennen",
         "marker": {
          "color": "#ab63fa",
          "symbol": "circle"
         },
         "mode": "markers",
         "name": "Kennen",
         "orientation": "v",
         "showlegend": true,
         "type": "scatter",
         "x": [
          377
         ],
         "xaxis": "x",
         "y": [
          0.27
         ],
         "yaxis": "y"
        },
        {
         "hovertemplate": "color=Khazix<br>APCNT=%{x}<br>STEALRATE=%{y}<extra></extra>",
         "legendgroup": "Khazix",
         "marker": {
          "color": "#FFA15A",
          "symbol": "circle"
         },
         "mode": "markers",
         "name": "Khazix",
         "orientation": "v",
         "showlegend": true,
         "type": "scatter",
         "x": [
          275
         ],
         "xaxis": "x",
         "y": [
          8.73
         ],
         "yaxis": "y"
        },
        {
         "hovertemplate": "color=Kindred<br>APCNT=%{x}<br>STEALRATE=%{y}<extra></extra>",
         "legendgroup": "Kindred",
         "marker": {
          "color": "#19d3f3",
          "symbol": "circle"
         },
         "mode": "markers",
         "name": "Kindred",
         "orientation": "v",
         "showlegend": true,
         "type": "scatter",
         "x": [
          377
         ],
         "xaxis": "x",
         "y": [
          6.1
         ],
         "yaxis": "y"
        },
        {
         "hovertemplate": "color=Kled<br>APCNT=%{x}<br>STEALRATE=%{y}<extra></extra>",
         "legendgroup": "Kled",
         "marker": {
          "color": "#FF6692",
          "symbol": "circle"
         },
         "mode": "markers",
         "name": "Kled",
         "orientation": "v",
         "showlegend": true,
         "type": "scatter",
         "x": [
          210
         ],
         "xaxis": "x",
         "y": [
          0.95
         ],
         "yaxis": "y"
        },
        {
         "hovertemplate": "color=Leblanc<br>APCNT=%{x}<br>STEALRATE=%{y}<extra></extra>",
         "legendgroup": "Leblanc",
         "marker": {
          "color": "#B6E880",
          "symbol": "circle"
         },
         "mode": "markers",
         "name": "Leblanc",
         "orientation": "v",
         "showlegend": true,
         "type": "scatter",
         "x": [
          1121
         ],
         "xaxis": "x",
         "y": [
          1.34
         ],
         "yaxis": "y"
        },
        {
         "hovertemplate": "color=LeeSin<br>APCNT=%{x}<br>STEALRATE=%{y}<extra></extra>",
         "legendgroup": "LeeSin",
         "marker": {
          "color": "#FF97FF",
          "symbol": "circle"
         },
         "mode": "markers",
         "name": "LeeSin",
         "orientation": "v",
         "showlegend": true,
         "type": "scatter",
         "x": [
          2968
         ],
         "xaxis": "x",
         "y": [
          11.15
         ],
         "yaxis": "y"
        },
        {
         "hovertemplate": "color=Lillia<br>APCNT=%{x}<br>STEALRATE=%{y}<extra></extra>",
         "legendgroup": "Lillia",
         "marker": {
          "color": "#FECB52",
          "symbol": "circle"
         },
         "mode": "markers",
         "name": "Lillia",
         "orientation": "v",
         "showlegend": true,
         "type": "scatter",
         "x": [
          174
         ],
         "xaxis": "x",
         "y": [
          1.72
         ],
         "yaxis": "y"
        },
        {
         "hovertemplate": "color=Lissandra<br>APCNT=%{x}<br>STEALRATE=%{y}<extra></extra>",
         "legendgroup": "Lissandra",
         "marker": {
          "color": "#636efa",
          "symbol": "circle"
         },
         "mode": "markers",
         "name": "Lissandra",
         "orientation": "v",
         "showlegend": true,
         "type": "scatter",
         "x": [
          348
         ],
         "xaxis": "x",
         "y": [
          1.15
         ],
         "yaxis": "y"
        },
        {
         "hovertemplate": "color=Lucian<br>APCNT=%{x}<br>STEALRATE=%{y}<extra></extra>",
         "legendgroup": "Lucian",
         "marker": {
          "color": "#EF553B",
          "symbol": "circle"
         },
         "mode": "markers",
         "name": "Lucian",
         "orientation": "v",
         "showlegend": true,
         "type": "scatter",
         "x": [
          979
         ],
         "xaxis": "x",
         "y": [
          0.72
         ],
         "yaxis": "y"
        },
        {
         "hovertemplate": "color=Lulu<br>APCNT=%{x}<br>STEALRATE=%{y}<extra></extra>",
         "legendgroup": "Lulu",
         "marker": {
          "color": "#00cc96",
          "symbol": "circle"
         },
         "mode": "markers",
         "name": "Lulu",
         "orientation": "v",
         "showlegend": true,
         "type": "scatter",
         "x": [
          815
         ],
         "xaxis": "x",
         "y": [
          0.12
         ],
         "yaxis": "y"
        },
        {
         "hovertemplate": "color=Lux<br>APCNT=%{x}<br>STEALRATE=%{y}<extra></extra>",
         "legendgroup": "Lux",
         "marker": {
          "color": "#ab63fa",
          "symbol": "circle"
         },
         "mode": "markers",
         "name": "Lux",
         "orientation": "v",
         "showlegend": true,
         "type": "scatter",
         "x": [
          1459
         ],
         "xaxis": "x",
         "y": [
          2.26
         ],
         "yaxis": "y"
        },
        {
         "hovertemplate": "color=Malphite<br>APCNT=%{x}<br>STEALRATE=%{y}<extra></extra>",
         "legendgroup": "Malphite",
         "marker": {
          "color": "#FFA15A",
          "symbol": "circle"
         },
         "mode": "markers",
         "name": "Malphite",
         "orientation": "v",
         "showlegend": true,
         "type": "scatter",
         "x": [
          1297
         ],
         "xaxis": "x",
         "y": [
          0.77
         ],
         "yaxis": "y"
        },
        {
         "hovertemplate": "color=Malzahar<br>APCNT=%{x}<br>STEALRATE=%{y}<extra></extra>",
         "legendgroup": "Malzahar",
         "marker": {
          "color": "#19d3f3",
          "symbol": "circle"
         },
         "mode": "markers",
         "name": "Malzahar",
         "orientation": "v",
         "showlegend": true,
         "type": "scatter",
         "x": [
          333
         ],
         "xaxis": "x",
         "y": [
          0.8999999999999999
         ],
         "yaxis": "y"
        },
        {
         "hovertemplate": "color=Maokai<br>APCNT=%{x}<br>STEALRATE=%{y}<extra></extra>",
         "legendgroup": "Maokai",
         "marker": {
          "color": "#FF6692",
          "symbol": "circle"
         },
         "mode": "markers",
         "name": "Maokai",
         "orientation": "v",
         "showlegend": true,
         "type": "scatter",
         "x": [
          636
         ],
         "xaxis": "x",
         "y": [
          4.25
         ],
         "yaxis": "y"
        },
        {
         "hovertemplate": "color=MasterYi<br>APCNT=%{x}<br>STEALRATE=%{y}<extra></extra>",
         "legendgroup": "MasterYi",
         "marker": {
          "color": "#B6E880",
          "symbol": "circle"
         },
         "mode": "markers",
         "name": "MasterYi",
         "orientation": "v",
         "showlegend": true,
         "type": "scatter",
         "x": [
          520
         ],
         "xaxis": "x",
         "y": [
          6.35
         ],
         "yaxis": "y"
        },
        {
         "hovertemplate": "color=MissFortune<br>APCNT=%{x}<br>STEALRATE=%{y}<extra></extra>",
         "legendgroup": "MissFortune",
         "marker": {
          "color": "#FF97FF",
          "symbol": "circle"
         },
         "mode": "markers",
         "name": "MissFortune",
         "orientation": "v",
         "showlegend": true,
         "type": "scatter",
         "x": [
          585
         ],
         "xaxis": "x",
         "y": [
          1.37
         ],
         "yaxis": "y"
        },
        {
         "hovertemplate": "color=MonkeyKing<br>APCNT=%{x}<br>STEALRATE=%{y}<extra></extra>",
         "legendgroup": "MonkeyKing",
         "marker": {
          "color": "#FECB52",
          "symbol": "circle"
         },
         "mode": "markers",
         "name": "MonkeyKing",
         "orientation": "v",
         "showlegend": true,
         "type": "scatter",
         "x": [
          776
         ],
         "xaxis": "x",
         "y": [
          7.090000000000001
         ],
         "yaxis": "y"
        },
        {
         "hovertemplate": "color=Mordekaiser<br>APCNT=%{x}<br>STEALRATE=%{y}<extra></extra>",
         "legendgroup": "Mordekaiser",
         "marker": {
          "color": "#636efa",
          "symbol": "circle"
         },
         "mode": "markers",
         "name": "Mordekaiser",
         "orientation": "v",
         "showlegend": true,
         "type": "scatter",
         "x": [
          474
         ],
         "xaxis": "x",
         "y": [
          0.42
         ],
         "yaxis": "y"
        },
        {
         "hovertemplate": "color=Morgana<br>APCNT=%{x}<br>STEALRATE=%{y}<extra></extra>",
         "legendgroup": "Morgana",
         "marker": {
          "color": "#EF553B",
          "symbol": "circle"
         },
         "mode": "markers",
         "name": "Morgana",
         "orientation": "v",
         "showlegend": true,
         "type": "scatter",
         "x": [
          698
         ],
         "xaxis": "x",
         "y": [
          1
         ],
         "yaxis": "y"
        },
        {
         "hovertemplate": "color=Nami<br>APCNT=%{x}<br>STEALRATE=%{y}<extra></extra>",
         "legendgroup": "Nami",
         "marker": {
          "color": "#00cc96",
          "symbol": "circle"
         },
         "mode": "markers",
         "name": "Nami",
         "orientation": "v",
         "showlegend": true,
         "type": "scatter",
         "x": [
          442
         ],
         "xaxis": "x",
         "y": [
          0.22999999999999998
         ],
         "yaxis": "y"
        },
        {
         "hovertemplate": "color=Nasus<br>APCNT=%{x}<br>STEALRATE=%{y}<extra></extra>",
         "legendgroup": "Nasus",
         "marker": {
          "color": "#ab63fa",
          "symbol": "circle"
         },
         "mode": "markers",
         "name": "Nasus",
         "orientation": "v",
         "showlegend": true,
         "type": "scatter",
         "x": [
          418
         ],
         "xaxis": "x",
         "y": [
          0.48
         ],
         "yaxis": "y"
        },
        {
         "hovertemplate": "color=Nautilus<br>APCNT=%{x}<br>STEALRATE=%{y}<extra></extra>",
         "legendgroup": "Nautilus",
         "marker": {
          "color": "#FFA15A",
          "symbol": "circle"
         },
         "mode": "markers",
         "name": "Nautilus",
         "orientation": "v",
         "showlegend": true,
         "type": "scatter",
         "x": [
          1019
         ],
         "xaxis": "x",
         "y": [
          0.2
         ],
         "yaxis": "y"
        },
        {
         "hovertemplate": "color=Neeko<br>APCNT=%{x}<br>STEALRATE=%{y}<extra></extra>",
         "legendgroup": "Neeko",
         "marker": {
          "color": "#19d3f3",
          "symbol": "circle"
         },
         "mode": "markers",
         "name": "Neeko",
         "orientation": "v",
         "showlegend": true,
         "type": "scatter",
         "x": [
          143
         ],
         "xaxis": "x",
         "y": [
          0.7000000000000001
         ],
         "yaxis": "y"
        },
        {
         "hovertemplate": "color=Nidalee<br>APCNT=%{x}<br>STEALRATE=%{y}<extra></extra>",
         "legendgroup": "Nidalee",
         "marker": {
          "color": "#FF6692",
          "symbol": "circle"
         },
         "mode": "markers",
         "name": "Nidalee",
         "orientation": "v",
         "showlegend": true,
         "type": "scatter",
         "x": [
          783
         ],
         "xaxis": "x",
         "y": [
          7.28
         ],
         "yaxis": "y"
        },
        {
         "hovertemplate": "color=Nocturne<br>APCNT=%{x}<br>STEALRATE=%{y}<extra></extra>",
         "legendgroup": "Nocturne",
         "marker": {
          "color": "#B6E880",
          "symbol": "circle"
         },
         "mode": "markers",
         "name": "Nocturne",
         "orientation": "v",
         "showlegend": true,
         "type": "scatter",
         "x": [
          548
         ],
         "xaxis": "x",
         "y": [
          6.569999999999999
         ],
         "yaxis": "y"
        },
        {
         "hovertemplate": "color=Nunu<br>APCNT=%{x}<br>STEALRATE=%{y}<extra></extra>",
         "legendgroup": "Nunu",
         "marker": {
          "color": "#FF97FF",
          "symbol": "circle"
         },
         "mode": "markers",
         "name": "Nunu",
         "orientation": "v",
         "showlegend": true,
         "type": "scatter",
         "x": [
          352
         ],
         "xaxis": "x",
         "y": [
          7.95
         ],
         "yaxis": "y"
        },
        {
         "hovertemplate": "color=Olaf<br>APCNT=%{x}<br>STEALRATE=%{y}<extra></extra>",
         "legendgroup": "Olaf",
         "marker": {
          "color": "#FECB52",
          "symbol": "circle"
         },
         "mode": "markers",
         "name": "Olaf",
         "orientation": "v",
         "showlegend": true,
         "type": "scatter",
         "x": [
          259
         ],
         "xaxis": "x",
         "y": [
          1.9300000000000002
         ],
         "yaxis": "y"
        },
        {
         "hovertemplate": "color=Orianna<br>APCNT=%{x}<br>STEALRATE=%{y}<extra></extra>",
         "legendgroup": "Orianna",
         "marker": {
          "color": "#636efa",
          "symbol": "circle"
         },
         "mode": "markers",
         "name": "Orianna",
         "orientation": "v",
         "showlegend": true,
         "type": "scatter",
         "x": [
          322
         ],
         "xaxis": "x",
         "y": [
          1.24
         ],
         "yaxis": "y"
        },
        {
         "hovertemplate": "color=Ornn<br>APCNT=%{x}<br>STEALRATE=%{y}<extra></extra>",
         "legendgroup": "Ornn",
         "marker": {
          "color": "#EF553B",
          "symbol": "circle"
         },
         "mode": "markers",
         "name": "Ornn",
         "orientation": "v",
         "showlegend": true,
         "type": "scatter",
         "x": [
          429
         ],
         "xaxis": "x",
         "y": [
          0.47000000000000003
         ],
         "yaxis": "y"
        },
        {
         "hovertemplate": "color=Pantheon<br>APCNT=%{x}<br>STEALRATE=%{y}<extra></extra>",
         "legendgroup": "Pantheon",
         "marker": {
          "color": "#00cc96",
          "symbol": "circle"
         },
         "mode": "markers",
         "name": "Pantheon",
         "orientation": "v",
         "showlegend": true,
         "type": "scatter",
         "x": [
          864
         ],
         "xaxis": "x",
         "y": [
          1.5
         ],
         "yaxis": "y"
        },
        {
         "hovertemplate": "color=Poppy<br>APCNT=%{x}<br>STEALRATE=%{y}<extra></extra>",
         "legendgroup": "Poppy",
         "marker": {
          "color": "#ab63fa",
          "symbol": "circle"
         },
         "mode": "markers",
         "name": "Poppy",
         "orientation": "v",
         "showlegend": true,
         "type": "scatter",
         "x": [
          441
         ],
         "xaxis": "x",
         "y": [
          4.99
         ],
         "yaxis": "y"
        },
        {
         "hovertemplate": "color=Pyke<br>APCNT=%{x}<br>STEALRATE=%{y}<extra></extra>",
         "legendgroup": "Pyke",
         "marker": {
          "color": "#FFA15A",
          "symbol": "circle"
         },
         "mode": "markers",
         "name": "Pyke",
         "orientation": "v",
         "showlegend": true,
         "type": "scatter",
         "x": [
          664
         ],
         "xaxis": "x",
         "y": [
          0.44999999999999996
         ],
         "yaxis": "y"
        },
        {
         "hovertemplate": "color=Qiyana<br>APCNT=%{x}<br>STEALRATE=%{y}<extra></extra>",
         "legendgroup": "Qiyana",
         "marker": {
          "color": "#19d3f3",
          "symbol": "circle"
         },
         "mode": "markers",
         "name": "Qiyana",
         "orientation": "v",
         "showlegend": true,
         "type": "scatter",
         "x": [
          175
         ],
         "xaxis": "x",
         "y": [
          1.1400000000000001
         ],
         "yaxis": "y"
        },
        {
         "hovertemplate": "color=Quinn<br>APCNT=%{x}<br>STEALRATE=%{y}<extra></extra>",
         "legendgroup": "Quinn",
         "marker": {
          "color": "#FF6692",
          "symbol": "circle"
         },
         "mode": "markers",
         "name": "Quinn",
         "orientation": "v",
         "showlegend": true,
         "type": "scatter",
         "x": [
          211
         ],
         "xaxis": "x",
         "y": [
          0.47000000000000003
         ],
         "yaxis": "y"
        },
        {
         "hovertemplate": "color=Rakan<br>APCNT=%{x}<br>STEALRATE=%{y}<extra></extra>",
         "legendgroup": "Rakan",
         "marker": {
          "color": "#B6E880",
          "symbol": "circle"
         },
         "mode": "markers",
         "name": "Rakan",
         "orientation": "v",
         "showlegend": true,
         "type": "scatter",
         "x": [
          739
         ],
         "xaxis": "x",
         "y": [
          0.13999999999999999
         ],
         "yaxis": "y"
        },
        {
         "hovertemplate": "color=Rammus<br>APCNT=%{x}<br>STEALRATE=%{y}<extra></extra>",
         "legendgroup": "Rammus",
         "marker": {
          "color": "#FF97FF",
          "symbol": "circle"
         },
         "mode": "markers",
         "name": "Rammus",
         "orientation": "v",
         "showlegend": true,
         "type": "scatter",
         "x": [
          318
         ],
         "xaxis": "x",
         "y": [
          4.09
         ],
         "yaxis": "y"
        },
        {
         "hovertemplate": "color=RekSai<br>APCNT=%{x}<br>STEALRATE=%{y}<extra></extra>",
         "legendgroup": "RekSai",
         "marker": {
          "color": "#FECB52",
          "symbol": "circle"
         },
         "mode": "markers",
         "name": "RekSai",
         "orientation": "v",
         "showlegend": true,
         "type": "scatter",
         "x": [
          174
         ],
         "xaxis": "x",
         "y": [
          7.470000000000001
         ],
         "yaxis": "y"
        },
        {
         "hovertemplate": "color=Renata<br>APCNT=%{x}<br>STEALRATE=%{y}<extra></extra>",
         "legendgroup": "Renata",
         "marker": {
          "color": "#636efa",
          "symbol": "circle"
         },
         "mode": "markers",
         "name": "Renata",
         "orientation": "v",
         "showlegend": true,
         "type": "scatter",
         "x": [
          97
         ],
         "xaxis": "x",
         "y": [
          1.03
         ],
         "yaxis": "y"
        },
        {
         "hovertemplate": "color=Renekton<br>APCNT=%{x}<br>STEALRATE=%{y}<extra></extra>",
         "legendgroup": "Renekton",
         "marker": {
          "color": "#EF553B",
          "symbol": "circle"
         },
         "mode": "markers",
         "name": "Renekton",
         "orientation": "v",
         "showlegend": true,
         "type": "scatter",
         "x": [
          679
         ],
         "xaxis": "x",
         "y": [
          0.29
         ],
         "yaxis": "y"
        },
        {
         "hovertemplate": "color=Rengar<br>APCNT=%{x}<br>STEALRATE=%{y}<extra></extra>",
         "legendgroup": "Rengar",
         "marker": {
          "color": "#00cc96",
          "symbol": "circle"
         },
         "mode": "markers",
         "name": "Rengar",
         "orientation": "v",
         "showlegend": true,
         "type": "scatter",
         "x": [
          377
         ],
         "xaxis": "x",
         "y": [
          1.59
         ],
         "yaxis": "y"
        },
        {
         "hovertemplate": "color=Riven<br>APCNT=%{x}<br>STEALRATE=%{y}<extra></extra>",
         "legendgroup": "Riven",
         "marker": {
          "color": "#ab63fa",
          "symbol": "circle"
         },
         "mode": "markers",
         "name": "Riven",
         "orientation": "v",
         "showlegend": true,
         "type": "scatter",
         "x": [
          419
         ],
         "xaxis": "x",
         "y": [
          0.48
         ],
         "yaxis": "y"
        },
        {
         "hovertemplate": "color=Rumble<br>APCNT=%{x}<br>STEALRATE=%{y}<extra></extra>",
         "legendgroup": "Rumble",
         "marker": {
          "color": "#FFA15A",
          "symbol": "circle"
         },
         "mode": "markers",
         "name": "Rumble",
         "orientation": "v",
         "showlegend": true,
         "type": "scatter",
         "x": [
          679
         ],
         "xaxis": "x",
         "y": [
          0.88
         ],
         "yaxis": "y"
        },
        {
         "hovertemplate": "color=Ryze<br>APCNT=%{x}<br>STEALRATE=%{y}<extra></extra>",
         "legendgroup": "Ryze",
         "marker": {
          "color": "#19d3f3",
          "symbol": "circle"
         },
         "mode": "markers",
         "name": "Ryze",
         "orientation": "v",
         "showlegend": true,
         "type": "scatter",
         "x": [
          429
         ],
         "xaxis": "x",
         "y": [
          1.17
         ],
         "yaxis": "y"
        },
        {
         "hovertemplate": "color=Samira<br>APCNT=%{x}<br>STEALRATE=%{y}<extra></extra>",
         "legendgroup": "Samira",
         "marker": {
          "color": "#FF6692",
          "symbol": "circle"
         },
         "mode": "markers",
         "name": "Samira",
         "orientation": "v",
         "showlegend": true,
         "type": "scatter",
         "x": [
          949
         ],
         "xaxis": "x",
         "y": [
          0.53
         ],
         "yaxis": "y"
        },
        {
         "hovertemplate": "color=Sejuani<br>APCNT=%{x}<br>STEALRATE=%{y}<extra></extra>",
         "legendgroup": "Sejuani",
         "marker": {
          "color": "#B6E880",
          "symbol": "circle"
         },
         "mode": "markers",
         "name": "Sejuani",
         "orientation": "v",
         "showlegend": true,
         "type": "scatter",
         "x": [
          625
         ],
         "xaxis": "x",
         "y": [
          7.5200000000000005
         ],
         "yaxis": "y"
        },
        {
         "hovertemplate": "color=Seraphine<br>APCNT=%{x}<br>STEALRATE=%{y}<extra></extra>",
         "legendgroup": "Seraphine",
         "marker": {
          "color": "#FF97FF",
          "symbol": "circle"
         },
         "mode": "markers",
         "name": "Seraphine",
         "orientation": "v",
         "showlegend": true,
         "type": "scatter",
         "x": [
          221
         ],
         "xaxis": "x",
         "y": [
          0.44999999999999996
         ],
         "yaxis": "y"
        },
        {
         "hovertemplate": "color=Sett<br>APCNT=%{x}<br>STEALRATE=%{y}<extra></extra>",
         "legendgroup": "Sett",
         "marker": {
          "color": "#FECB52",
          "symbol": "circle"
         },
         "mode": "markers",
         "name": "Sett",
         "orientation": "v",
         "showlegend": true,
         "type": "scatter",
         "x": [
          720
         ],
         "xaxis": "x",
         "y": [
          0.42
         ],
         "yaxis": "y"
        },
        {
         "hovertemplate": "color=Shaco<br>APCNT=%{x}<br>STEALRATE=%{y}<extra></extra>",
         "legendgroup": "Shaco",
         "marker": {
          "color": "#636efa",
          "symbol": "circle"
         },
         "mode": "markers",
         "name": "Shaco",
         "orientation": "v",
         "showlegend": true,
         "type": "scatter",
         "x": [
          853
         ],
         "xaxis": "x",
         "y": [
          9.379999999999999
         ],
         "yaxis": "y"
        },
        {
         "hovertemplate": "color=Shen<br>APCNT=%{x}<br>STEALRATE=%{y}<extra></extra>",
         "legendgroup": "Shen",
         "marker": {
          "color": "#EF553B",
          "symbol": "circle"
         },
         "mode": "markers",
         "name": "Shen",
         "orientation": "v",
         "showlegend": true,
         "type": "scatter",
         "x": [
          411
         ],
         "xaxis": "x",
         "y": [
          0.49
         ],
         "yaxis": "y"
        },
        {
         "hovertemplate": "color=Shyvana<br>APCNT=%{x}<br>STEALRATE=%{y}<extra></extra>",
         "legendgroup": "Shyvana",
         "marker": {
          "color": "#00cc96",
          "symbol": "circle"
         },
         "mode": "markers",
         "name": "Shyvana",
         "orientation": "v",
         "showlegend": true,
         "type": "scatter",
         "x": [
          150
         ],
         "xaxis": "x",
         "y": [
          7.33
         ],
         "yaxis": "y"
        },
        {
         "hovertemplate": "color=Singed<br>APCNT=%{x}<br>STEALRATE=%{y}<extra></extra>",
         "legendgroup": "Singed",
         "marker": {
          "color": "#ab63fa",
          "symbol": "circle"
         },
         "mode": "markers",
         "name": "Singed",
         "orientation": "v",
         "showlegend": true,
         "type": "scatter",
         "x": [
          222
         ],
         "xaxis": "x",
         "y": [
          0.44999999999999996
         ],
         "yaxis": "y"
        },
        {
         "hovertemplate": "color=Sion<br>APCNT=%{x}<br>STEALRATE=%{y}<extra></extra>",
         "legendgroup": "Sion",
         "marker": {
          "color": "#FFA15A",
          "symbol": "circle"
         },
         "mode": "markers",
         "name": "Sion",
         "orientation": "v",
         "showlegend": true,
         "type": "scatter",
         "x": [
          330
         ],
         "xaxis": "x",
         "y": [
          0.3
         ],
         "yaxis": "y"
        },
        {
         "hovertemplate": "color=Sivir<br>APCNT=%{x}<br>STEALRATE=%{y}<extra></extra>",
         "legendgroup": "Sivir",
         "marker": {
          "color": "#19d3f3",
          "symbol": "circle"
         },
         "mode": "markers",
         "name": "Sivir",
         "orientation": "v",
         "showlegend": true,
         "type": "scatter",
         "x": [
          629
         ],
         "xaxis": "x",
         "y": [
          0.95
         ],
         "yaxis": "y"
        },
        {
         "hovertemplate": "color=Skarner<br>APCNT=%{x}<br>STEALRATE=%{y}<extra></extra>",
         "legendgroup": "Skarner",
         "marker": {
          "color": "#FF6692",
          "symbol": "circle"
         },
         "mode": "markers",
         "name": "Skarner",
         "orientation": "v",
         "showlegend": true,
         "type": "scatter",
         "x": [
          47
         ],
         "xaxis": "x",
         "y": [
          12.770000000000001
         ],
         "yaxis": "y"
        },
        {
         "hovertemplate": "color=Soraka<br>APCNT=%{x}<br>STEALRATE=%{y}<extra></extra>",
         "legendgroup": "Soraka",
         "marker": {
          "color": "#B6E880",
          "symbol": "circle"
         },
         "mode": "markers",
         "name": "Soraka",
         "orientation": "v",
         "showlegend": true,
         "type": "scatter",
         "x": [
          304
         ],
         "xaxis": "x",
         "y": [
          0.33
         ],
         "yaxis": "y"
        },
        {
         "hovertemplate": "color=Swain<br>APCNT=%{x}<br>STEALRATE=%{y}<extra></extra>",
         "legendgroup": "Swain",
         "marker": {
          "color": "#FF97FF",
          "symbol": "circle"
         },
         "mode": "markers",
         "name": "Swain",
         "orientation": "v",
         "showlegend": true,
         "type": "scatter",
         "x": [
          473
         ],
         "xaxis": "x",
         "y": [
          0.21
         ],
         "yaxis": "y"
        },
        {
         "hovertemplate": "color=Sylas<br>APCNT=%{x}<br>STEALRATE=%{y}<extra></extra>",
         "legendgroup": "Sylas",
         "marker": {
          "color": "#FECB52",
          "symbol": "circle"
         },
         "mode": "markers",
         "name": "Sylas",
         "orientation": "v",
         "showlegend": true,
         "type": "scatter",
         "x": [
          2137
         ],
         "xaxis": "x",
         "y": [
          4.31
         ],
         "yaxis": "y"
        },
        {
         "hovertemplate": "color=Syndra<br>APCNT=%{x}<br>STEALRATE=%{y}<extra></extra>",
         "legendgroup": "Syndra",
         "marker": {
          "color": "#636efa",
          "symbol": "circle"
         },
         "mode": "markers",
         "name": "Syndra",
         "orientation": "v",
         "showlegend": true,
         "type": "scatter",
         "x": [
          347
         ],
         "xaxis": "x",
         "y": [
          0.58
         ],
         "yaxis": "y"
        },
        {
         "hovertemplate": "color=TahmKench<br>APCNT=%{x}<br>STEALRATE=%{y}<extra></extra>",
         "legendgroup": "TahmKench",
         "marker": {
          "color": "#EF553B",
          "symbol": "circle"
         },
         "mode": "markers",
         "name": "TahmKench",
         "orientation": "v",
         "showlegend": true,
         "type": "scatter",
         "x": [
          207
         ],
         "xaxis": "x",
         "y": [
          0.97
         ],
         "yaxis": "y"
        },
        {
         "hovertemplate": "color=Taliyah<br>APCNT=%{x}<br>STEALRATE=%{y}<extra></extra>",
         "legendgroup": "Taliyah",
         "marker": {
          "color": "#00cc96",
          "symbol": "circle"
         },
         "mode": "markers",
         "name": "Taliyah",
         "orientation": "v",
         "showlegend": true,
         "type": "scatter",
         "x": [
          201
         ],
         "xaxis": "x",
         "y": [
          1.9900000000000002
         ],
         "yaxis": "y"
        },
        {
         "hovertemplate": "color=Talon<br>APCNT=%{x}<br>STEALRATE=%{y}<extra></extra>",
         "legendgroup": "Talon",
         "marker": {
          "color": "#ab63fa",
          "symbol": "circle"
         },
         "mode": "markers",
         "name": "Talon",
         "orientation": "v",
         "showlegend": true,
         "type": "scatter",
         "x": [
          582
         ],
         "xaxis": "x",
         "y": [
          3.09
         ],
         "yaxis": "y"
        },
        {
         "hovertemplate": "color=Teemo<br>APCNT=%{x}<br>STEALRATE=%{y}<extra></extra>",
         "legendgroup": "Teemo",
         "marker": {
          "color": "#FFA15A",
          "symbol": "circle"
         },
         "mode": "markers",
         "name": "Teemo",
         "orientation": "v",
         "showlegend": true,
         "type": "scatter",
         "x": [
          340
         ],
         "xaxis": "x",
         "y": [
          0.29
         ],
         "yaxis": "y"
        },
        {
         "hovertemplate": "color=Thresh<br>APCNT=%{x}<br>STEALRATE=%{y}<extra></extra>",
         "legendgroup": "Thresh",
         "marker": {
          "color": "#19d3f3",
          "symbol": "circle"
         },
         "mode": "markers",
         "name": "Thresh",
         "orientation": "v",
         "showlegend": true,
         "type": "scatter",
         "x": [
          1872
         ],
         "xaxis": "x",
         "y": [
          0.21
         ],
         "yaxis": "y"
        },
        {
         "hovertemplate": "color=Tristana<br>APCNT=%{x}<br>STEALRATE=%{y}<extra></extra>",
         "legendgroup": "Tristana",
         "marker": {
          "color": "#FF6692",
          "symbol": "circle"
         },
         "mode": "markers",
         "name": "Tristana",
         "orientation": "v",
         "showlegend": true,
         "type": "scatter",
         "x": [
          523
         ],
         "xaxis": "x",
         "y": [
          0.19
         ],
         "yaxis": "y"
        },
        {
         "hovertemplate": "color=Trundle<br>APCNT=%{x}<br>STEALRATE=%{y}<extra></extra>",
         "legendgroup": "Trundle",
         "marker": {
          "color": "#B6E880",
          "symbol": "circle"
         },
         "mode": "markers",
         "name": "Trundle",
         "orientation": "v",
         "showlegend": true,
         "type": "scatter",
         "x": [
          158
         ],
         "xaxis": "x",
         "y": [
          2.53
         ],
         "yaxis": "y"
        },
        {
         "hovertemplate": "color=Tryndamere<br>APCNT=%{x}<br>STEALRATE=%{y}<extra></extra>",
         "legendgroup": "Tryndamere",
         "marker": {
          "color": "#FF97FF",
          "symbol": "circle"
         },
         "mode": "markers",
         "name": "Tryndamere",
         "orientation": "v",
         "showlegend": true,
         "type": "scatter",
         "x": [
          183
         ],
         "xaxis": "x",
         "y": [
          0.5499999999999999
         ],
         "yaxis": "y"
        },
        {
         "hovertemplate": "color=TwistedFate<br>APCNT=%{x}<br>STEALRATE=%{y}<extra></extra>",
         "legendgroup": "TwistedFate",
         "marker": {
          "color": "#FECB52",
          "symbol": "circle"
         },
         "mode": "markers",
         "name": "TwistedFate",
         "orientation": "v",
         "showlegend": true,
         "type": "scatter",
         "x": [
          380
         ],
         "xaxis": "x",
         "y": [
          0.79
         ],
         "yaxis": "y"
        },
        {
         "hovertemplate": "color=Twitch<br>APCNT=%{x}<br>STEALRATE=%{y}<extra></extra>",
         "legendgroup": "Twitch",
         "marker": {
          "color": "#636efa",
          "symbol": "circle"
         },
         "mode": "markers",
         "name": "Twitch",
         "orientation": "v",
         "showlegend": true,
         "type": "scatter",
         "x": [
          395
         ],
         "xaxis": "x",
         "y": [
          1.52
         ],
         "yaxis": "y"
        },
        {
         "hovertemplate": "color=Udyr<br>APCNT=%{x}<br>STEALRATE=%{y}<extra></extra>",
         "legendgroup": "Udyr",
         "marker": {
          "color": "#EF553B",
          "symbol": "circle"
         },
         "mode": "markers",
         "name": "Udyr",
         "orientation": "v",
         "showlegend": true,
         "type": "scatter",
         "x": [
          243
         ],
         "xaxis": "x",
         "y": [
          2.4699999999999998
         ],
         "yaxis": "y"
        },
        {
         "hovertemplate": "color=Urgot<br>APCNT=%{x}<br>STEALRATE=%{y}<extra></extra>",
         "legendgroup": "Urgot",
         "marker": {
          "color": "#00cc96",
          "symbol": "circle"
         },
         "mode": "markers",
         "name": "Urgot",
         "orientation": "v",
         "showlegend": true,
         "type": "scatter",
         "x": [
          115
         ],
         "xaxis": "x",
         "y": [
          1.7399999999999998
         ],
         "yaxis": "y"
        },
        {
         "hovertemplate": "color=Varus<br>APCNT=%{x}<br>STEALRATE=%{y}<extra></extra>",
         "legendgroup": "Varus",
         "marker": {
          "color": "#ab63fa",
          "symbol": "circle"
         },
         "mode": "markers",
         "name": "Varus",
         "orientation": "v",
         "showlegend": true,
         "type": "scatter",
         "x": [
          1303
         ],
         "xaxis": "x",
         "y": [
          1.38
         ],
         "yaxis": "y"
        },
        {
         "hovertemplate": "color=Vayne<br>APCNT=%{x}<br>STEALRATE=%{y}<extra></extra>",
         "legendgroup": "Vayne",
         "marker": {
          "color": "#FFA15A",
          "symbol": "circle"
         },
         "mode": "markers",
         "name": "Vayne",
         "orientation": "v",
         "showlegend": true,
         "type": "scatter",
         "x": [
          604
         ],
         "xaxis": "x",
         "y": [
          0.16999999999999998
         ],
         "yaxis": "y"
        },
        {
         "hovertemplate": "color=Veigar<br>APCNT=%{x}<br>STEALRATE=%{y}<extra></extra>",
         "legendgroup": "Veigar",
         "marker": {
          "color": "#19d3f3",
          "symbol": "circle"
         },
         "mode": "markers",
         "name": "Veigar",
         "orientation": "v",
         "showlegend": true,
         "type": "scatter",
         "x": [
          1179
         ],
         "xaxis": "x",
         "y": [
          0.6799999999999999
         ],
         "yaxis": "y"
        },
        {
         "hovertemplate": "color=Velkoz<br>APCNT=%{x}<br>STEALRATE=%{y}<extra></extra>",
         "legendgroup": "Velkoz",
         "marker": {
          "color": "#FF6692",
          "symbol": "circle"
         },
         "mode": "markers",
         "name": "Velkoz",
         "orientation": "v",
         "showlegend": true,
         "type": "scatter",
         "x": [
          198
         ],
         "xaxis": "x",
         "y": [
          1.52
         ],
         "yaxis": "y"
        },
        {
         "hovertemplate": "color=Vex<br>APCNT=%{x}<br>STEALRATE=%{y}<extra></extra>",
         "legendgroup": "Vex",
         "marker": {
          "color": "#B6E880",
          "symbol": "circle"
         },
         "mode": "markers",
         "name": "Vex",
         "orientation": "v",
         "showlegend": true,
         "type": "scatter",
         "x": [
          548
         ],
         "xaxis": "x",
         "y": [
          0.36
         ],
         "yaxis": "y"
        },
        {
         "hovertemplate": "color=Vi<br>APCNT=%{x}<br>STEALRATE=%{y}<extra></extra>",
         "legendgroup": "Vi",
         "marker": {
          "color": "#FF97FF",
          "symbol": "circle"
         },
         "mode": "markers",
         "name": "Vi",
         "orientation": "v",
         "showlegend": true,
         "type": "scatter",
         "x": [
          789
         ],
         "xaxis": "x",
         "y": [
          8.75
         ],
         "yaxis": "y"
        },
        {
         "hovertemplate": "color=Viego<br>APCNT=%{x}<br>STEALRATE=%{y}<extra></extra>",
         "legendgroup": "Viego",
         "marker": {
          "color": "#FECB52",
          "symbol": "circle"
         },
         "mode": "markers",
         "name": "Viego",
         "orientation": "v",
         "showlegend": true,
         "type": "scatter",
         "x": [
          795
         ],
         "xaxis": "x",
         "y": [
          7.670000000000001
         ],
         "yaxis": "y"
        },
        {
         "hovertemplate": "color=Viktor<br>APCNT=%{x}<br>STEALRATE=%{y}<extra></extra>",
         "legendgroup": "Viktor",
         "marker": {
          "color": "#636efa",
          "symbol": "circle"
         },
         "mode": "markers",
         "name": "Viktor",
         "orientation": "v",
         "showlegend": true,
         "type": "scatter",
         "x": [
          888
         ],
         "xaxis": "x",
         "y": [
          0.5599999999999999
         ],
         "yaxis": "y"
        },
        {
         "hovertemplate": "color=Vladimir<br>APCNT=%{x}<br>STEALRATE=%{y}<extra></extra>",
         "legendgroup": "Vladimir",
         "marker": {
          "color": "#EF553B",
          "symbol": "circle"
         },
         "mode": "markers",
         "name": "Vladimir",
         "orientation": "v",
         "showlegend": true,
         "type": "scatter",
         "x": [
          363
         ],
         "xaxis": "x",
         "y": [
          0.5499999999999999
         ],
         "yaxis": "y"
        },
        {
         "hovertemplate": "color=Volibear<br>APCNT=%{x}<br>STEALRATE=%{y}<extra></extra>",
         "legendgroup": "Volibear",
         "marker": {
          "color": "#00cc96",
          "symbol": "circle"
         },
         "mode": "markers",
         "name": "Volibear",
         "orientation": "v",
         "showlegend": true,
         "type": "scatter",
         "x": [
          126
         ],
         "xaxis": "x",
         "y": [
          2.3800000000000003
         ],
         "yaxis": "y"
        },
        {
         "hovertemplate": "color=Warwick<br>APCNT=%{x}<br>STEALRATE=%{y}<extra></extra>",
         "legendgroup": "Warwick",
         "marker": {
          "color": "#ab63fa",
          "symbol": "circle"
         },
         "mode": "markers",
         "name": "Warwick",
         "orientation": "v",
         "showlegend": true,
         "type": "scatter",
         "x": [
          401
         ],
         "xaxis": "x",
         "y": [
          2.9899999999999998
         ],
         "yaxis": "y"
        },
        {
         "hovertemplate": "color=Xayah<br>APCNT=%{x}<br>STEALRATE=%{y}<extra></extra>",
         "legendgroup": "Xayah",
         "marker": {
          "color": "#FFA15A",
          "symbol": "circle"
         },
         "mode": "markers",
         "name": "Xayah",
         "orientation": "v",
         "showlegend": true,
         "type": "scatter",
         "x": [
          1597
         ],
         "xaxis": "x",
         "y": [
          0.5599999999999999
         ],
         "yaxis": "y"
        },
        {
         "hovertemplate": "color=Xerath<br>APCNT=%{x}<br>STEALRATE=%{y}<extra></extra>",
         "legendgroup": "Xerath",
         "marker": {
          "color": "#19d3f3",
          "symbol": "circle"
         },
         "mode": "markers",
         "name": "Xerath",
         "orientation": "v",
         "showlegend": true,
         "type": "scatter",
         "x": [
          1013
         ],
         "xaxis": "x",
         "y": [
          1.38
         ],
         "yaxis": "y"
        },
        {
         "hovertemplate": "color=XinZhao<br>APCNT=%{x}<br>STEALRATE=%{y}<extra></extra>",
         "legendgroup": "XinZhao",
         "marker": {
          "color": "#FF6692",
          "symbol": "circle"
         },
         "mode": "markers",
         "name": "XinZhao",
         "orientation": "v",
         "showlegend": true,
         "type": "scatter",
         "x": [
          300
         ],
         "xaxis": "x",
         "y": [
          4.67
         ],
         "yaxis": "y"
        },
        {
         "hovertemplate": "color=Yasuo<br>APCNT=%{x}<br>STEALRATE=%{y}<extra></extra>",
         "legendgroup": "Yasuo",
         "marker": {
          "color": "#B6E880",
          "symbol": "circle"
         },
         "mode": "markers",
         "name": "Yasuo",
         "orientation": "v",
         "showlegend": true,
         "type": "scatter",
         "x": [
          925
         ],
         "xaxis": "x",
         "y": [
          0.86
         ],
         "yaxis": "y"
        },
        {
         "hovertemplate": "color=Yone<br>APCNT=%{x}<br>STEALRATE=%{y}<extra></extra>",
         "legendgroup": "Yone",
         "marker": {
          "color": "#FF97FF",
          "symbol": "circle"
         },
         "mode": "markers",
         "name": "Yone",
         "orientation": "v",
         "showlegend": true,
         "type": "scatter",
         "x": [
          1326
         ],
         "xaxis": "x",
         "y": [
          0.75
         ],
         "yaxis": "y"
        },
        {
         "hovertemplate": "color=Yorick<br>APCNT=%{x}<br>STEALRATE=%{y}<extra></extra>",
         "legendgroup": "Yorick",
         "marker": {
          "color": "#FECB52",
          "symbol": "circle"
         },
         "mode": "markers",
         "name": "Yorick",
         "orientation": "v",
         "showlegend": true,
         "type": "scatter",
         "x": [
          520
         ],
         "xaxis": "x",
         "y": [
          0.38
         ],
         "yaxis": "y"
        },
        {
         "hovertemplate": "color=Zac<br>APCNT=%{x}<br>STEALRATE=%{y}<extra></extra>",
         "legendgroup": "Zac",
         "marker": {
          "color": "#636efa",
          "symbol": "circle"
         },
         "mode": "markers",
         "name": "Zac",
         "orientation": "v",
         "showlegend": true,
         "type": "scatter",
         "x": [
          882
         ],
         "xaxis": "x",
         "y": [
          6.460000000000001
         ],
         "yaxis": "y"
        },
        {
         "hovertemplate": "color=Zed<br>APCNT=%{x}<br>STEALRATE=%{y}<extra></extra>",
         "legendgroup": "Zed",
         "marker": {
          "color": "#EF553B",
          "symbol": "circle"
         },
         "mode": "markers",
         "name": "Zed",
         "orientation": "v",
         "showlegend": true,
         "type": "scatter",
         "x": [
          1255
         ],
         "xaxis": "x",
         "y": [
          2.07
         ],
         "yaxis": "y"
        },
        {
         "hovertemplate": "color=Zeri<br>APCNT=%{x}<br>STEALRATE=%{y}<extra></extra>",
         "legendgroup": "Zeri",
         "marker": {
          "color": "#00cc96",
          "symbol": "circle"
         },
         "mode": "markers",
         "name": "Zeri",
         "orientation": "v",
         "showlegend": true,
         "type": "scatter",
         "x": [
          852
         ],
         "xaxis": "x",
         "y": [
          0.35000000000000003
         ],
         "yaxis": "y"
        },
        {
         "hovertemplate": "color=Ziggs<br>APCNT=%{x}<br>STEALRATE=%{y}<extra></extra>",
         "legendgroup": "Ziggs",
         "marker": {
          "color": "#ab63fa",
          "symbol": "circle"
         },
         "mode": "markers",
         "name": "Ziggs",
         "orientation": "v",
         "showlegend": true,
         "type": "scatter",
         "x": [
          209
         ],
         "xaxis": "x",
         "y": [
          2.39
         ],
         "yaxis": "y"
        },
        {
         "hovertemplate": "color=Zilean<br>APCNT=%{x}<br>STEALRATE=%{y}<extra></extra>",
         "legendgroup": "Zilean",
         "marker": {
          "color": "#FFA15A",
          "symbol": "circle"
         },
         "mode": "markers",
         "name": "Zilean",
         "orientation": "v",
         "showlegend": true,
         "type": "scatter",
         "x": [
          234
         ],
         "xaxis": "x",
         "y": [
          1.28
         ],
         "yaxis": "y"
        },
        {
         "hovertemplate": "color=Zoe<br>APCNT=%{x}<br>STEALRATE=%{y}<extra></extra>",
         "legendgroup": "Zoe",
         "marker": {
          "color": "#19d3f3",
          "symbol": "circle"
         },
         "mode": "markers",
         "name": "Zoe",
         "orientation": "v",
         "showlegend": true,
         "type": "scatter",
         "x": [
          315
         ],
         "xaxis": "x",
         "y": [
          1.9
         ],
         "yaxis": "y"
        },
        {
         "hovertemplate": "color=Zyra<br>APCNT=%{x}<br>STEALRATE=%{y}<extra></extra>",
         "legendgroup": "Zyra",
         "marker": {
          "color": "#FF6692",
          "symbol": "circle"
         },
         "mode": "markers",
         "name": "Zyra",
         "orientation": "v",
         "showlegend": true,
         "type": "scatter",
         "x": [
          293
         ],
         "xaxis": "x",
         "y": [
          1.02
         ],
         "yaxis": "y"
        }
       ],
       "layout": {
        "legend": {
         "title": {
          "text": "color"
         },
         "tracegroupgap": 0
        },
        "template": {
         "data": {
          "bar": [
           {
            "error_x": {
             "color": "#2a3f5f"
            },
            "error_y": {
             "color": "#2a3f5f"
            },
            "marker": {
             "line": {
              "color": "#E5ECF6",
              "width": 0.5
             },
             "pattern": {
              "fillmode": "overlay",
              "size": 10,
              "solidity": 0.2
             }
            },
            "type": "bar"
           }
          ],
          "barpolar": [
           {
            "marker": {
             "line": {
              "color": "#E5ECF6",
              "width": 0.5
             },
             "pattern": {
              "fillmode": "overlay",
              "size": 10,
              "solidity": 0.2
             }
            },
            "type": "barpolar"
           }
          ],
          "carpet": [
           {
            "aaxis": {
             "endlinecolor": "#2a3f5f",
             "gridcolor": "white",
             "linecolor": "white",
             "minorgridcolor": "white",
             "startlinecolor": "#2a3f5f"
            },
            "baxis": {
             "endlinecolor": "#2a3f5f",
             "gridcolor": "white",
             "linecolor": "white",
             "minorgridcolor": "white",
             "startlinecolor": "#2a3f5f"
            },
            "type": "carpet"
           }
          ],
          "choropleth": [
           {
            "colorbar": {
             "outlinewidth": 0,
             "ticks": ""
            },
            "type": "choropleth"
           }
          ],
          "contour": [
           {
            "colorbar": {
             "outlinewidth": 0,
             "ticks": ""
            },
            "colorscale": [
             [
              0,
              "#0d0887"
             ],
             [
              0.1111111111111111,
              "#46039f"
             ],
             [
              0.2222222222222222,
              "#7201a8"
             ],
             [
              0.3333333333333333,
              "#9c179e"
             ],
             [
              0.4444444444444444,
              "#bd3786"
             ],
             [
              0.5555555555555556,
              "#d8576b"
             ],
             [
              0.6666666666666666,
              "#ed7953"
             ],
             [
              0.7777777777777778,
              "#fb9f3a"
             ],
             [
              0.8888888888888888,
              "#fdca26"
             ],
             [
              1,
              "#f0f921"
             ]
            ],
            "type": "contour"
           }
          ],
          "contourcarpet": [
           {
            "colorbar": {
             "outlinewidth": 0,
             "ticks": ""
            },
            "type": "contourcarpet"
           }
          ],
          "heatmap": [
           {
            "colorbar": {
             "outlinewidth": 0,
             "ticks": ""
            },
            "colorscale": [
             [
              0,
              "#0d0887"
             ],
             [
              0.1111111111111111,
              "#46039f"
             ],
             [
              0.2222222222222222,
              "#7201a8"
             ],
             [
              0.3333333333333333,
              "#9c179e"
             ],
             [
              0.4444444444444444,
              "#bd3786"
             ],
             [
              0.5555555555555556,
              "#d8576b"
             ],
             [
              0.6666666666666666,
              "#ed7953"
             ],
             [
              0.7777777777777778,
              "#fb9f3a"
             ],
             [
              0.8888888888888888,
              "#fdca26"
             ],
             [
              1,
              "#f0f921"
             ]
            ],
            "type": "heatmap"
           }
          ],
          "heatmapgl": [
           {
            "colorbar": {
             "outlinewidth": 0,
             "ticks": ""
            },
            "colorscale": [
             [
              0,
              "#0d0887"
             ],
             [
              0.1111111111111111,
              "#46039f"
             ],
             [
              0.2222222222222222,
              "#7201a8"
             ],
             [
              0.3333333333333333,
              "#9c179e"
             ],
             [
              0.4444444444444444,
              "#bd3786"
             ],
             [
              0.5555555555555556,
              "#d8576b"
             ],
             [
              0.6666666666666666,
              "#ed7953"
             ],
             [
              0.7777777777777778,
              "#fb9f3a"
             ],
             [
              0.8888888888888888,
              "#fdca26"
             ],
             [
              1,
              "#f0f921"
             ]
            ],
            "type": "heatmapgl"
           }
          ],
          "histogram": [
           {
            "marker": {
             "pattern": {
              "fillmode": "overlay",
              "size": 10,
              "solidity": 0.2
             }
            },
            "type": "histogram"
           }
          ],
          "histogram2d": [
           {
            "colorbar": {
             "outlinewidth": 0,
             "ticks": ""
            },
            "colorscale": [
             [
              0,
              "#0d0887"
             ],
             [
              0.1111111111111111,
              "#46039f"
             ],
             [
              0.2222222222222222,
              "#7201a8"
             ],
             [
              0.3333333333333333,
              "#9c179e"
             ],
             [
              0.4444444444444444,
              "#bd3786"
             ],
             [
              0.5555555555555556,
              "#d8576b"
             ],
             [
              0.6666666666666666,
              "#ed7953"
             ],
             [
              0.7777777777777778,
              "#fb9f3a"
             ],
             [
              0.8888888888888888,
              "#fdca26"
             ],
             [
              1,
              "#f0f921"
             ]
            ],
            "type": "histogram2d"
           }
          ],
          "histogram2dcontour": [
           {
            "colorbar": {
             "outlinewidth": 0,
             "ticks": ""
            },
            "colorscale": [
             [
              0,
              "#0d0887"
             ],
             [
              0.1111111111111111,
              "#46039f"
             ],
             [
              0.2222222222222222,
              "#7201a8"
             ],
             [
              0.3333333333333333,
              "#9c179e"
             ],
             [
              0.4444444444444444,
              "#bd3786"
             ],
             [
              0.5555555555555556,
              "#d8576b"
             ],
             [
              0.6666666666666666,
              "#ed7953"
             ],
             [
              0.7777777777777778,
              "#fb9f3a"
             ],
             [
              0.8888888888888888,
              "#fdca26"
             ],
             [
              1,
              "#f0f921"
             ]
            ],
            "type": "histogram2dcontour"
           }
          ],
          "mesh3d": [
           {
            "colorbar": {
             "outlinewidth": 0,
             "ticks": ""
            },
            "type": "mesh3d"
           }
          ],
          "parcoords": [
           {
            "line": {
             "colorbar": {
              "outlinewidth": 0,
              "ticks": ""
             }
            },
            "type": "parcoords"
           }
          ],
          "pie": [
           {
            "automargin": true,
            "type": "pie"
           }
          ],
          "scatter": [
           {
            "fillpattern": {
             "fillmode": "overlay",
             "size": 10,
             "solidity": 0.2
            },
            "type": "scatter"
           }
          ],
          "scatter3d": [
           {
            "line": {
             "colorbar": {
              "outlinewidth": 0,
              "ticks": ""
             }
            },
            "marker": {
             "colorbar": {
              "outlinewidth": 0,
              "ticks": ""
             }
            },
            "type": "scatter3d"
           }
          ],
          "scattercarpet": [
           {
            "marker": {
             "colorbar": {
              "outlinewidth": 0,
              "ticks": ""
             }
            },
            "type": "scattercarpet"
           }
          ],
          "scattergeo": [
           {
            "marker": {
             "colorbar": {
              "outlinewidth": 0,
              "ticks": ""
             }
            },
            "type": "scattergeo"
           }
          ],
          "scattergl": [
           {
            "marker": {
             "colorbar": {
              "outlinewidth": 0,
              "ticks": ""
             }
            },
            "type": "scattergl"
           }
          ],
          "scattermapbox": [
           {
            "marker": {
             "colorbar": {
              "outlinewidth": 0,
              "ticks": ""
             }
            },
            "type": "scattermapbox"
           }
          ],
          "scatterpolar": [
           {
            "marker": {
             "colorbar": {
              "outlinewidth": 0,
              "ticks": ""
             }
            },
            "type": "scatterpolar"
           }
          ],
          "scatterpolargl": [
           {
            "marker": {
             "colorbar": {
              "outlinewidth": 0,
              "ticks": ""
             }
            },
            "type": "scatterpolargl"
           }
          ],
          "scatterternary": [
           {
            "marker": {
             "colorbar": {
              "outlinewidth": 0,
              "ticks": ""
             }
            },
            "type": "scatterternary"
           }
          ],
          "surface": [
           {
            "colorbar": {
             "outlinewidth": 0,
             "ticks": ""
            },
            "colorscale": [
             [
              0,
              "#0d0887"
             ],
             [
              0.1111111111111111,
              "#46039f"
             ],
             [
              0.2222222222222222,
              "#7201a8"
             ],
             [
              0.3333333333333333,
              "#9c179e"
             ],
             [
              0.4444444444444444,
              "#bd3786"
             ],
             [
              0.5555555555555556,
              "#d8576b"
             ],
             [
              0.6666666666666666,
              "#ed7953"
             ],
             [
              0.7777777777777778,
              "#fb9f3a"
             ],
             [
              0.8888888888888888,
              "#fdca26"
             ],
             [
              1,
              "#f0f921"
             ]
            ],
            "type": "surface"
           }
          ],
          "table": [
           {
            "cells": {
             "fill": {
              "color": "#EBF0F8"
             },
             "line": {
              "color": "white"
             }
            },
            "header": {
             "fill": {
              "color": "#C8D4E3"
             },
             "line": {
              "color": "white"
             }
            },
            "type": "table"
           }
          ]
         },
         "layout": {
          "annotationdefaults": {
           "arrowcolor": "#2a3f5f",
           "arrowhead": 0,
           "arrowwidth": 1
          },
          "autotypenumbers": "strict",
          "coloraxis": {
           "colorbar": {
            "outlinewidth": 0,
            "ticks": ""
           }
          },
          "colorscale": {
           "diverging": [
            [
             0,
             "#8e0152"
            ],
            [
             0.1,
             "#c51b7d"
            ],
            [
             0.2,
             "#de77ae"
            ],
            [
             0.3,
             "#f1b6da"
            ],
            [
             0.4,
             "#fde0ef"
            ],
            [
             0.5,
             "#f7f7f7"
            ],
            [
             0.6,
             "#e6f5d0"
            ],
            [
             0.7,
             "#b8e186"
            ],
            [
             0.8,
             "#7fbc41"
            ],
            [
             0.9,
             "#4d9221"
            ],
            [
             1,
             "#276419"
            ]
           ],
           "sequential": [
            [
             0,
             "#0d0887"
            ],
            [
             0.1111111111111111,
             "#46039f"
            ],
            [
             0.2222222222222222,
             "#7201a8"
            ],
            [
             0.3333333333333333,
             "#9c179e"
            ],
            [
             0.4444444444444444,
             "#bd3786"
            ],
            [
             0.5555555555555556,
             "#d8576b"
            ],
            [
             0.6666666666666666,
             "#ed7953"
            ],
            [
             0.7777777777777778,
             "#fb9f3a"
            ],
            [
             0.8888888888888888,
             "#fdca26"
            ],
            [
             1,
             "#f0f921"
            ]
           ],
           "sequentialminus": [
            [
             0,
             "#0d0887"
            ],
            [
             0.1111111111111111,
             "#46039f"
            ],
            [
             0.2222222222222222,
             "#7201a8"
            ],
            [
             0.3333333333333333,
             "#9c179e"
            ],
            [
             0.4444444444444444,
             "#bd3786"
            ],
            [
             0.5555555555555556,
             "#d8576b"
            ],
            [
             0.6666666666666666,
             "#ed7953"
            ],
            [
             0.7777777777777778,
             "#fb9f3a"
            ],
            [
             0.8888888888888888,
             "#fdca26"
            ],
            [
             1,
             "#f0f921"
            ]
           ]
          },
          "colorway": [
           "#636efa",
           "#EF553B",
           "#00cc96",
           "#ab63fa",
           "#FFA15A",
           "#19d3f3",
           "#FF6692",
           "#B6E880",
           "#FF97FF",
           "#FECB52"
          ],
          "font": {
           "color": "#2a3f5f"
          },
          "geo": {
           "bgcolor": "white",
           "lakecolor": "white",
           "landcolor": "#E5ECF6",
           "showlakes": true,
           "showland": true,
           "subunitcolor": "white"
          },
          "hoverlabel": {
           "align": "left"
          },
          "hovermode": "closest",
          "mapbox": {
           "style": "light"
          },
          "paper_bgcolor": "white",
          "plot_bgcolor": "#E5ECF6",
          "polar": {
           "angularaxis": {
            "gridcolor": "white",
            "linecolor": "white",
            "ticks": ""
           },
           "bgcolor": "#E5ECF6",
           "radialaxis": {
            "gridcolor": "white",
            "linecolor": "white",
            "ticks": ""
           }
          },
          "scene": {
           "xaxis": {
            "backgroundcolor": "#E5ECF6",
            "gridcolor": "white",
            "gridwidth": 2,
            "linecolor": "white",
            "showbackground": true,
            "ticks": "",
            "zerolinecolor": "white"
           },
           "yaxis": {
            "backgroundcolor": "#E5ECF6",
            "gridcolor": "white",
            "gridwidth": 2,
            "linecolor": "white",
            "showbackground": true,
            "ticks": "",
            "zerolinecolor": "white"
           },
           "zaxis": {
            "backgroundcolor": "#E5ECF6",
            "gridcolor": "white",
            "gridwidth": 2,
            "linecolor": "white",
            "showbackground": true,
            "ticks": "",
            "zerolinecolor": "white"
           }
          },
          "shapedefaults": {
           "line": {
            "color": "#2a3f5f"
           }
          },
          "ternary": {
           "aaxis": {
            "gridcolor": "white",
            "linecolor": "white",
            "ticks": ""
           },
           "baxis": {
            "gridcolor": "white",
            "linecolor": "white",
            "ticks": ""
           },
           "bgcolor": "#E5ECF6",
           "caxis": {
            "gridcolor": "white",
            "linecolor": "white",
            "ticks": ""
           }
          },
          "title": {
           "x": 0.05
          },
          "xaxis": {
           "automargin": true,
           "gridcolor": "white",
           "linecolor": "white",
           "ticks": "",
           "title": {
            "standoff": 15
           },
           "zerolinecolor": "white",
           "zerolinewidth": 2
          },
          "yaxis": {
           "automargin": true,
           "gridcolor": "white",
           "linecolor": "white",
           "ticks": "",
           "title": {
            "standoff": 15
           },
           "zerolinecolor": "white",
           "zerolinewidth": 2
          }
         }
        },
        "title": {
         "text": "전체게임 등장 횟수와 에픽몬스터 스틸확률"
        },
        "xaxis": {
         "anchor": "y",
         "domain": [
          0,
          1
         ],
         "title": {
          "text": "APCNT"
         }
        },
        "yaxis": {
         "anchor": "x",
         "domain": [
          0,
          1
         ],
         "title": {
          "text": "STEALRATE"
         }
        }
       }
      },
      "text/html": [
       "<div>                            <div id=\"dd75b6f8-4d95-48d0-97b7-f02a9674fe25\" class=\"plotly-graph-div\" style=\"height:525px; width:100%;\"></div>            <script type=\"text/javascript\">                require([\"plotly\"], function(Plotly) {                    window.PLOTLYENV=window.PLOTLYENV || {};                                    if (document.getElementById(\"dd75b6f8-4d95-48d0-97b7-f02a9674fe25\")) {                    Plotly.newPlot(                        \"dd75b6f8-4d95-48d0-97b7-f02a9674fe25\",                        [{\"hovertemplate\":\"color=Aatrox<br>APCNT=%{x}<br>STEALRATE=%{y}<extra></extra>\",\"legendgroup\":\"Aatrox\",\"marker\":{\"color\":\"#636efa\",\"symbol\":\"circle\"},\"mode\":\"markers\",\"name\":\"Aatrox\",\"orientation\":\"v\",\"showlegend\":true,\"x\":[501],\"xaxis\":\"x\",\"y\":[0.6],\"yaxis\":\"y\",\"type\":\"scatter\"},{\"hovertemplate\":\"color=Ahri<br>APCNT=%{x}<br>STEALRATE=%{y}<extra></extra>\",\"legendgroup\":\"Ahri\",\"marker\":{\"color\":\"#EF553B\",\"symbol\":\"circle\"},\"mode\":\"markers\",\"name\":\"Ahri\",\"orientation\":\"v\",\"showlegend\":true,\"x\":[879],\"xaxis\":\"x\",\"y\":[0.8],\"yaxis\":\"y\",\"type\":\"scatter\"},{\"hovertemplate\":\"color=Akali<br>APCNT=%{x}<br>STEALRATE=%{y}<extra></extra>\",\"legendgroup\":\"Akali\",\"marker\":{\"color\":\"#00cc96\",\"symbol\":\"circle\"},\"mode\":\"markers\",\"name\":\"Akali\",\"orientation\":\"v\",\"showlegend\":true,\"x\":[943],\"xaxis\":\"x\",\"y\":[0.53],\"yaxis\":\"y\",\"type\":\"scatter\"},{\"hovertemplate\":\"color=Akshan<br>APCNT=%{x}<br>STEALRATE=%{y}<extra></extra>\",\"legendgroup\":\"Akshan\",\"marker\":{\"color\":\"#ab63fa\",\"symbol\":\"circle\"},\"mode\":\"markers\",\"name\":\"Akshan\",\"orientation\":\"v\",\"showlegend\":true,\"x\":[376],\"xaxis\":\"x\",\"y\":[0.27],\"yaxis\":\"y\",\"type\":\"scatter\"},{\"hovertemplate\":\"color=Alistar<br>APCNT=%{x}<br>STEALRATE=%{y}<extra></extra>\",\"legendgroup\":\"Alistar\",\"marker\":{\"color\":\"#FFA15A\",\"symbol\":\"circle\"},\"mode\":\"markers\",\"name\":\"Alistar\",\"orientation\":\"v\",\"showlegend\":true,\"x\":[520],\"xaxis\":\"x\",\"y\":[0.38],\"yaxis\":\"y\",\"type\":\"scatter\"},{\"hovertemplate\":\"color=Amumu<br>APCNT=%{x}<br>STEALRATE=%{y}<extra></extra>\",\"legendgroup\":\"Amumu\",\"marker\":{\"color\":\"#19d3f3\",\"symbol\":\"circle\"},\"mode\":\"markers\",\"name\":\"Amumu\",\"orientation\":\"v\",\"showlegend\":true,\"x\":[680],\"xaxis\":\"x\",\"y\":[1.91],\"yaxis\":\"y\",\"type\":\"scatter\"},{\"hovertemplate\":\"color=Anivia<br>APCNT=%{x}<br>STEALRATE=%{y}<extra></extra>\",\"legendgroup\":\"Anivia\",\"marker\":{\"color\":\"#FF6692\",\"symbol\":\"circle\"},\"mode\":\"markers\",\"name\":\"Anivia\",\"orientation\":\"v\",\"showlegend\":true,\"x\":[363],\"xaxis\":\"x\",\"y\":[0.83],\"yaxis\":\"y\",\"type\":\"scatter\"},{\"hovertemplate\":\"color=Aphelios<br>APCNT=%{x}<br>STEALRATE=%{y}<extra></extra>\",\"legendgroup\":\"Aphelios\",\"marker\":{\"color\":\"#B6E880\",\"symbol\":\"circle\"},\"mode\":\"markers\",\"name\":\"Aphelios\",\"orientation\":\"v\",\"showlegend\":true,\"x\":[408],\"xaxis\":\"x\",\"y\":[0.49],\"yaxis\":\"y\",\"type\":\"scatter\"},{\"hovertemplate\":\"color=Ashe<br>APCNT=%{x}<br>STEALRATE=%{y}<extra></extra>\",\"legendgroup\":\"Ashe\",\"marker\":{\"color\":\"#FF97FF\",\"symbol\":\"circle\"},\"mode\":\"markers\",\"name\":\"Ashe\",\"orientation\":\"v\",\"showlegend\":true,\"x\":[1252],\"xaxis\":\"x\",\"y\":[0.5599999999999999],\"yaxis\":\"y\",\"type\":\"scatter\"},{\"hovertemplate\":\"color=AurelionSol<br>APCNT=%{x}<br>STEALRATE=%{y}<extra></extra>\",\"legendgroup\":\"AurelionSol\",\"marker\":{\"color\":\"#FECB52\",\"symbol\":\"circle\"},\"mode\":\"markers\",\"name\":\"AurelionSol\",\"orientation\":\"v\",\"showlegend\":true,\"x\":[1118],\"xaxis\":\"x\",\"y\":[1.0699999999999998],\"yaxis\":\"y\",\"type\":\"scatter\"},{\"hovertemplate\":\"color=Azir<br>APCNT=%{x}<br>STEALRATE=%{y}<extra></extra>\",\"legendgroup\":\"Azir\",\"marker\":{\"color\":\"#636efa\",\"symbol\":\"circle\"},\"mode\":\"markers\",\"name\":\"Azir\",\"orientation\":\"v\",\"showlegend\":true,\"x\":[264],\"xaxis\":\"x\",\"y\":[0.76],\"yaxis\":\"y\",\"type\":\"scatter\"},{\"hovertemplate\":\"color=Belveth<br>APCNT=%{x}<br>STEALRATE=%{y}<extra></extra>\",\"legendgroup\":\"Belveth\",\"marker\":{\"color\":\"#EF553B\",\"symbol\":\"circle\"},\"mode\":\"markers\",\"name\":\"Belveth\",\"orientation\":\"v\",\"showlegend\":true,\"x\":[273],\"xaxis\":\"x\",\"y\":[3.3000000000000003],\"yaxis\":\"y\",\"type\":\"scatter\"},{\"hovertemplate\":\"color=Blitzcrank<br>APCNT=%{x}<br>STEALRATE=%{y}<extra></extra>\",\"legendgroup\":\"Blitzcrank\",\"marker\":{\"color\":\"#00cc96\",\"symbol\":\"circle\"},\"mode\":\"markers\",\"name\":\"Blitzcrank\",\"orientation\":\"v\",\"showlegend\":true,\"x\":[1428],\"xaxis\":\"x\",\"y\":[0.42],\"yaxis\":\"y\",\"type\":\"scatter\"},{\"hovertemplate\":\"color=Brand<br>APCNT=%{x}<br>STEALRATE=%{y}<extra></extra>\",\"legendgroup\":\"Brand\",\"marker\":{\"color\":\"#ab63fa\",\"symbol\":\"circle\"},\"mode\":\"markers\",\"name\":\"Brand\",\"orientation\":\"v\",\"showlegend\":true,\"x\":[291],\"xaxis\":\"x\",\"y\":[2.06],\"yaxis\":\"y\",\"type\":\"scatter\"},{\"hovertemplate\":\"color=Caitlyn<br>APCNT=%{x}<br>STEALRATE=%{y}<extra></extra>\",\"legendgroup\":\"Caitlyn\",\"marker\":{\"color\":\"#FFA15A\",\"symbol\":\"circle\"},\"mode\":\"markers\",\"name\":\"Caitlyn\",\"orientation\":\"v\",\"showlegend\":true,\"x\":[1571],\"xaxis\":\"x\",\"y\":[0.38],\"yaxis\":\"y\",\"type\":\"scatter\"},{\"hovertemplate\":\"color=Camille<br>APCNT=%{x}<br>STEALRATE=%{y}<extra></extra>\",\"legendgroup\":\"Camille\",\"marker\":{\"color\":\"#19d3f3\",\"symbol\":\"circle\"},\"mode\":\"markers\",\"name\":\"Camille\",\"orientation\":\"v\",\"showlegend\":true,\"x\":[425],\"xaxis\":\"x\",\"y\":[0.24],\"yaxis\":\"y\",\"type\":\"scatter\"},{\"hovertemplate\":\"color=Cassiopeia<br>APCNT=%{x}<br>STEALRATE=%{y}<extra></extra>\",\"legendgroup\":\"Cassiopeia\",\"marker\":{\"color\":\"#FF6692\",\"symbol\":\"circle\"},\"mode\":\"markers\",\"name\":\"Cassiopeia\",\"orientation\":\"v\",\"showlegend\":true,\"x\":[441],\"xaxis\":\"x\",\"y\":[0.6799999999999999],\"yaxis\":\"y\",\"type\":\"scatter\"},{\"hovertemplate\":\"color=Chogath<br>APCNT=%{x}<br>STEALRATE=%{y}<extra></extra>\",\"legendgroup\":\"Chogath\",\"marker\":{\"color\":\"#B6E880\",\"symbol\":\"circle\"},\"mode\":\"markers\",\"name\":\"Chogath\",\"orientation\":\"v\",\"showlegend\":true,\"x\":[667],\"xaxis\":\"x\",\"y\":[2.4],\"yaxis\":\"y\",\"type\":\"scatter\"},{\"hovertemplate\":\"color=Darius<br>APCNT=%{x}<br>STEALRATE=%{y}<extra></extra>\",\"legendgroup\":\"Darius\",\"marker\":{\"color\":\"#FF97FF\",\"symbol\":\"circle\"},\"mode\":\"markers\",\"name\":\"Darius\",\"orientation\":\"v\",\"showlegend\":true,\"x\":[793],\"xaxis\":\"x\",\"y\":[0.63],\"yaxis\":\"y\",\"type\":\"scatter\"},{\"hovertemplate\":\"color=Diana<br>APCNT=%{x}<br>STEALRATE=%{y}<extra></extra>\",\"legendgroup\":\"Diana\",\"marker\":{\"color\":\"#FECB52\",\"symbol\":\"circle\"},\"mode\":\"markers\",\"name\":\"Diana\",\"orientation\":\"v\",\"showlegend\":true,\"x\":[469],\"xaxis\":\"x\",\"y\":[4.6899999999999995],\"yaxis\":\"y\",\"type\":\"scatter\"},{\"hovertemplate\":\"color=DrMundo<br>APCNT=%{x}<br>STEALRATE=%{y}<extra></extra>\",\"legendgroup\":\"DrMundo\",\"marker\":{\"color\":\"#636efa\",\"symbol\":\"circle\"},\"mode\":\"markers\",\"name\":\"DrMundo\",\"orientation\":\"v\",\"showlegend\":true,\"x\":[191],\"xaxis\":\"x\",\"y\":[1.05],\"yaxis\":\"y\",\"type\":\"scatter\"},{\"hovertemplate\":\"color=Draven<br>APCNT=%{x}<br>STEALRATE=%{y}<extra></extra>\",\"legendgroup\":\"Draven\",\"marker\":{\"color\":\"#EF553B\",\"symbol\":\"circle\"},\"mode\":\"markers\",\"name\":\"Draven\",\"orientation\":\"v\",\"showlegend\":true,\"x\":[397],\"xaxis\":\"x\",\"y\":[1.51],\"yaxis\":\"y\",\"type\":\"scatter\"},{\"hovertemplate\":\"color=Ekko<br>APCNT=%{x}<br>STEALRATE=%{y}<extra></extra>\",\"legendgroup\":\"Ekko\",\"marker\":{\"color\":\"#00cc96\",\"symbol\":\"circle\"},\"mode\":\"markers\",\"name\":\"Ekko\",\"orientation\":\"v\",\"showlegend\":true,\"x\":[820],\"xaxis\":\"x\",\"y\":[7.4399999999999995],\"yaxis\":\"y\",\"type\":\"scatter\"},{\"hovertemplate\":\"color=Elise<br>APCNT=%{x}<br>STEALRATE=%{y}<extra></extra>\",\"legendgroup\":\"Elise\",\"marker\":{\"color\":\"#ab63fa\",\"symbol\":\"circle\"},\"mode\":\"markers\",\"name\":\"Elise\",\"orientation\":\"v\",\"showlegend\":true,\"x\":[572],\"xaxis\":\"x\",\"y\":[6.12],\"yaxis\":\"y\",\"type\":\"scatter\"},{\"hovertemplate\":\"color=Evelynn<br>APCNT=%{x}<br>STEALRATE=%{y}<extra></extra>\",\"legendgroup\":\"Evelynn\",\"marker\":{\"color\":\"#FFA15A\",\"symbol\":\"circle\"},\"mode\":\"markers\",\"name\":\"Evelynn\",\"orientation\":\"v\",\"showlegend\":true,\"x\":[288],\"xaxis\":\"x\",\"y\":[7.99],\"yaxis\":\"y\",\"type\":\"scatter\"},{\"hovertemplate\":\"color=Ezreal<br>APCNT=%{x}<br>STEALRATE=%{y}<extra></extra>\",\"legendgroup\":\"Ezreal\",\"marker\":{\"color\":\"#19d3f3\",\"symbol\":\"circle\"},\"mode\":\"markers\",\"name\":\"Ezreal\",\"orientation\":\"v\",\"showlegend\":true,\"x\":[2569],\"xaxis\":\"x\",\"y\":[1.5599999999999998],\"yaxis\":\"y\",\"type\":\"scatter\"},{\"hovertemplate\":\"color=FiddleSticks<br>APCNT=%{x}<br>STEALRATE=%{y}<extra></extra>\",\"legendgroup\":\"FiddleSticks\",\"marker\":{\"color\":\"#FF6692\",\"symbol\":\"circle\"},\"mode\":\"markers\",\"name\":\"FiddleSticks\",\"orientation\":\"v\",\"showlegend\":true,\"x\":[363],\"xaxis\":\"x\",\"y\":[6.0600000000000005],\"yaxis\":\"y\",\"type\":\"scatter\"},{\"hovertemplate\":\"color=Fiora<br>APCNT=%{x}<br>STEALRATE=%{y}<extra></extra>\",\"legendgroup\":\"Fiora\",\"marker\":{\"color\":\"#B6E880\",\"symbol\":\"circle\"},\"mode\":\"markers\",\"name\":\"Fiora\",\"orientation\":\"v\",\"showlegend\":true,\"x\":[666],\"xaxis\":\"x\",\"y\":[0.15],\"yaxis\":\"y\",\"type\":\"scatter\"},{\"hovertemplate\":\"color=Fizz<br>APCNT=%{x}<br>STEALRATE=%{y}<extra></extra>\",\"legendgroup\":\"Fizz\",\"marker\":{\"color\":\"#FF97FF\",\"symbol\":\"circle\"},\"mode\":\"markers\",\"name\":\"Fizz\",\"orientation\":\"v\",\"showlegend\":true,\"x\":[365],\"xaxis\":\"x\",\"y\":[0.8200000000000001],\"yaxis\":\"y\",\"type\":\"scatter\"},{\"hovertemplate\":\"color=Galio<br>APCNT=%{x}<br>STEALRATE=%{y}<extra></extra>\",\"legendgroup\":\"Galio\",\"marker\":{\"color\":\"#FECB52\",\"symbol\":\"circle\"},\"mode\":\"markers\",\"name\":\"Galio\",\"orientation\":\"v\",\"showlegend\":true,\"x\":[236],\"xaxis\":\"x\",\"y\":[0.42],\"yaxis\":\"y\",\"type\":\"scatter\"},{\"hovertemplate\":\"color=Gangplank<br>APCNT=%{x}<br>STEALRATE=%{y}<extra></extra>\",\"legendgroup\":\"Gangplank\",\"marker\":{\"color\":\"#636efa\",\"symbol\":\"circle\"},\"mode\":\"markers\",\"name\":\"Gangplank\",\"orientation\":\"v\",\"showlegend\":true,\"x\":[728],\"xaxis\":\"x\",\"y\":[1.51],\"yaxis\":\"y\",\"type\":\"scatter\"},{\"hovertemplate\":\"color=Gnar<br>APCNT=%{x}<br>STEALRATE=%{y}<extra></extra>\",\"legendgroup\":\"Gnar\",\"marker\":{\"color\":\"#EF553B\",\"symbol\":\"circle\"},\"mode\":\"markers\",\"name\":\"Gnar\",\"orientation\":\"v\",\"showlegend\":true,\"x\":[352],\"xaxis\":\"x\",\"y\":[0.27999999999999997],\"yaxis\":\"y\",\"type\":\"scatter\"},{\"hovertemplate\":\"color=Gragas<br>APCNT=%{x}<br>STEALRATE=%{y}<extra></extra>\",\"legendgroup\":\"Gragas\",\"marker\":{\"color\":\"#00cc96\",\"symbol\":\"circle\"},\"mode\":\"markers\",\"name\":\"Gragas\",\"orientation\":\"v\",\"showlegend\":true,\"x\":[1146],\"xaxis\":\"x\",\"y\":[4.89],\"yaxis\":\"y\",\"type\":\"scatter\"},{\"hovertemplate\":\"color=Graves<br>APCNT=%{x}<br>STEALRATE=%{y}<extra></extra>\",\"legendgroup\":\"Graves\",\"marker\":{\"color\":\"#ab63fa\",\"symbol\":\"circle\"},\"mode\":\"markers\",\"name\":\"Graves\",\"orientation\":\"v\",\"showlegend\":true,\"x\":[557],\"xaxis\":\"x\",\"y\":[5.21],\"yaxis\":\"y\",\"type\":\"scatter\"},{\"hovertemplate\":\"color=Gwen<br>APCNT=%{x}<br>STEALRATE=%{y}<extra></extra>\",\"legendgroup\":\"Gwen\",\"marker\":{\"color\":\"#FFA15A\",\"symbol\":\"circle\"},\"mode\":\"markers\",\"name\":\"Gwen\",\"orientation\":\"v\",\"showlegend\":true,\"x\":[223],\"xaxis\":\"x\",\"y\":[0.44999999999999996],\"yaxis\":\"y\",\"type\":\"scatter\"},{\"hovertemplate\":\"color=Hecarim<br>APCNT=%{x}<br>STEALRATE=%{y}<extra></extra>\",\"legendgroup\":\"Hecarim\",\"marker\":{\"color\":\"#19d3f3\",\"symbol\":\"circle\"},\"mode\":\"markers\",\"name\":\"Hecarim\",\"orientation\":\"v\",\"showlegend\":true,\"x\":[318],\"xaxis\":\"x\",\"y\":[8.49],\"yaxis\":\"y\",\"type\":\"scatter\"},{\"hovertemplate\":\"color=Heimerdinger<br>APCNT=%{x}<br>STEALRATE=%{y}<extra></extra>\",\"legendgroup\":\"Heimerdinger\",\"marker\":{\"color\":\"#FF6692\",\"symbol\":\"circle\"},\"mode\":\"markers\",\"name\":\"Heimerdinger\",\"orientation\":\"v\",\"showlegend\":true,\"x\":[329],\"xaxis\":\"x\",\"y\":[0.61],\"yaxis\":\"y\",\"type\":\"scatter\"},{\"hovertemplate\":\"color=Illaoi<br>APCNT=%{x}<br>STEALRATE=%{y}<extra></extra>\",\"legendgroup\":\"Illaoi\",\"marker\":{\"color\":\"#B6E880\",\"symbol\":\"circle\"},\"mode\":\"markers\",\"name\":\"Illaoi\",\"orientation\":\"v\",\"showlegend\":true,\"x\":[575],\"xaxis\":\"x\",\"y\":[0.16999999999999998],\"yaxis\":\"y\",\"type\":\"scatter\"},{\"hovertemplate\":\"color=Irelia<br>APCNT=%{x}<br>STEALRATE=%{y}<extra></extra>\",\"legendgroup\":\"Irelia\",\"marker\":{\"color\":\"#FF97FF\",\"symbol\":\"circle\"},\"mode\":\"markers\",\"name\":\"Irelia\",\"orientation\":\"v\",\"showlegend\":true,\"x\":[1221],\"xaxis\":\"x\",\"y\":[0.8200000000000001],\"yaxis\":\"y\",\"type\":\"scatter\"},{\"hovertemplate\":\"color=Ivern<br>APCNT=%{x}<br>STEALRATE=%{y}<extra></extra>\",\"legendgroup\":\"Ivern\",\"marker\":{\"color\":\"#FECB52\",\"symbol\":\"circle\"},\"mode\":\"markers\",\"name\":\"Ivern\",\"orientation\":\"v\",\"showlegend\":true,\"x\":[62],\"xaxis\":\"x\",\"y\":[1.6099999999999999],\"yaxis\":\"y\",\"type\":\"scatter\"},{\"hovertemplate\":\"color=Janna<br>APCNT=%{x}<br>STEALRATE=%{y}<extra></extra>\",\"legendgroup\":\"Janna\",\"marker\":{\"color\":\"#636efa\",\"symbol\":\"circle\"},\"mode\":\"markers\",\"name\":\"Janna\",\"orientation\":\"v\",\"showlegend\":true,\"x\":[84],\"xaxis\":\"x\",\"y\":[1.1900000000000002],\"yaxis\":\"y\",\"type\":\"scatter\"},{\"hovertemplate\":\"color=JarvanIV<br>APCNT=%{x}<br>STEALRATE=%{y}<extra></extra>\",\"legendgroup\":\"JarvanIV\",\"marker\":{\"color\":\"#EF553B\",\"symbol\":\"circle\"},\"mode\":\"markers\",\"name\":\"JarvanIV\",\"orientation\":\"v\",\"showlegend\":true,\"x\":[1458],\"xaxis\":\"x\",\"y\":[7.89],\"yaxis\":\"y\",\"type\":\"scatter\"},{\"hovertemplate\":\"color=Jax<br>APCNT=%{x}<br>STEALRATE=%{y}<extra></extra>\",\"legendgroup\":\"Jax\",\"marker\":{\"color\":\"#00cc96\",\"symbol\":\"circle\"},\"mode\":\"markers\",\"name\":\"Jax\",\"orientation\":\"v\",\"showlegend\":true,\"x\":[879],\"xaxis\":\"x\",\"y\":[0.91],\"yaxis\":\"y\",\"type\":\"scatter\"},{\"hovertemplate\":\"color=Jayce<br>APCNT=%{x}<br>STEALRATE=%{y}<extra></extra>\",\"legendgroup\":\"Jayce\",\"marker\":{\"color\":\"#ab63fa\",\"symbol\":\"circle\"},\"mode\":\"markers\",\"name\":\"Jayce\",\"orientation\":\"v\",\"showlegend\":true,\"x\":[1232],\"xaxis\":\"x\",\"y\":[0.8099999999999999],\"yaxis\":\"y\",\"type\":\"scatter\"},{\"hovertemplate\":\"color=Jhin<br>APCNT=%{x}<br>STEALRATE=%{y}<extra></extra>\",\"legendgroup\":\"Jhin\",\"marker\":{\"color\":\"#FFA15A\",\"symbol\":\"circle\"},\"mode\":\"markers\",\"name\":\"Jhin\",\"orientation\":\"v\",\"showlegend\":true,\"x\":[1618],\"xaxis\":\"x\",\"y\":[1.17],\"yaxis\":\"y\",\"type\":\"scatter\"},{\"hovertemplate\":\"color=Jinx<br>APCNT=%{x}<br>STEALRATE=%{y}<extra></extra>\",\"legendgroup\":\"Jinx\",\"marker\":{\"color\":\"#19d3f3\",\"symbol\":\"circle\"},\"mode\":\"markers\",\"name\":\"Jinx\",\"orientation\":\"v\",\"showlegend\":true,\"x\":[2157],\"xaxis\":\"x\",\"y\":[2.32],\"yaxis\":\"y\",\"type\":\"scatter\"},{\"hovertemplate\":\"color=KSante<br>APCNT=%{x}<br>STEALRATE=%{y}<extra></extra>\",\"legendgroup\":\"KSante\",\"marker\":{\"color\":\"#FF6692\",\"symbol\":\"circle\"},\"mode\":\"markers\",\"name\":\"KSante\",\"orientation\":\"v\",\"showlegend\":true,\"x\":[499],\"xaxis\":\"x\",\"y\":[0.2],\"yaxis\":\"y\",\"type\":\"scatter\"},{\"hovertemplate\":\"color=Kaisa<br>APCNT=%{x}<br>STEALRATE=%{y}<extra></extra>\",\"legendgroup\":\"Kaisa\",\"marker\":{\"color\":\"#B6E880\",\"symbol\":\"circle\"},\"mode\":\"markers\",\"name\":\"Kaisa\",\"orientation\":\"v\",\"showlegend\":true,\"x\":[1955],\"xaxis\":\"x\",\"y\":[0.5599999999999999],\"yaxis\":\"y\",\"type\":\"scatter\"},{\"hovertemplate\":\"color=Karma<br>APCNT=%{x}<br>STEALRATE=%{y}<extra></extra>\",\"legendgroup\":\"Karma\",\"marker\":{\"color\":\"#FF97FF\",\"symbol\":\"circle\"},\"mode\":\"markers\",\"name\":\"Karma\",\"orientation\":\"v\",\"showlegend\":true,\"x\":[882],\"xaxis\":\"x\",\"y\":[0.44999999999999996],\"yaxis\":\"y\",\"type\":\"scatter\"},{\"hovertemplate\":\"color=Karthus<br>APCNT=%{x}<br>STEALRATE=%{y}<extra></extra>\",\"legendgroup\":\"Karthus\",\"marker\":{\"color\":\"#FECB52\",\"symbol\":\"circle\"},\"mode\":\"markers\",\"name\":\"Karthus\",\"orientation\":\"v\",\"showlegend\":true,\"x\":[277],\"xaxis\":\"x\",\"y\":[2.8899999999999997],\"yaxis\":\"y\",\"type\":\"scatter\"},{\"hovertemplate\":\"color=Kassadin<br>APCNT=%{x}<br>STEALRATE=%{y}<extra></extra>\",\"legendgroup\":\"Kassadin\",\"marker\":{\"color\":\"#636efa\",\"symbol\":\"circle\"},\"mode\":\"markers\",\"name\":\"Kassadin\",\"orientation\":\"v\",\"showlegend\":true,\"x\":[295],\"xaxis\":\"x\",\"y\":[0.6799999999999999],\"yaxis\":\"y\",\"type\":\"scatter\"},{\"hovertemplate\":\"color=Katarina<br>APCNT=%{x}<br>STEALRATE=%{y}<extra></extra>\",\"legendgroup\":\"Katarina\",\"marker\":{\"color\":\"#EF553B\",\"symbol\":\"circle\"},\"mode\":\"markers\",\"name\":\"Katarina\",\"orientation\":\"v\",\"showlegend\":true,\"x\":[567],\"xaxis\":\"x\",\"y\":[0.7100000000000001],\"yaxis\":\"y\",\"type\":\"scatter\"},{\"hovertemplate\":\"color=Kayn<br>APCNT=%{x}<br>STEALRATE=%{y}<extra></extra>\",\"legendgroup\":\"Kayn\",\"marker\":{\"color\":\"#00cc96\",\"symbol\":\"circle\"},\"mode\":\"markers\",\"name\":\"Kayn\",\"orientation\":\"v\",\"showlegend\":true,\"x\":[686],\"xaxis\":\"x\",\"y\":[9.77],\"yaxis\":\"y\",\"type\":\"scatter\"},{\"hovertemplate\":\"color=Kennen<br>APCNT=%{x}<br>STEALRATE=%{y}<extra></extra>\",\"legendgroup\":\"Kennen\",\"marker\":{\"color\":\"#ab63fa\",\"symbol\":\"circle\"},\"mode\":\"markers\",\"name\":\"Kennen\",\"orientation\":\"v\",\"showlegend\":true,\"x\":[377],\"xaxis\":\"x\",\"y\":[0.27],\"yaxis\":\"y\",\"type\":\"scatter\"},{\"hovertemplate\":\"color=Khazix<br>APCNT=%{x}<br>STEALRATE=%{y}<extra></extra>\",\"legendgroup\":\"Khazix\",\"marker\":{\"color\":\"#FFA15A\",\"symbol\":\"circle\"},\"mode\":\"markers\",\"name\":\"Khazix\",\"orientation\":\"v\",\"showlegend\":true,\"x\":[275],\"xaxis\":\"x\",\"y\":[8.73],\"yaxis\":\"y\",\"type\":\"scatter\"},{\"hovertemplate\":\"color=Kindred<br>APCNT=%{x}<br>STEALRATE=%{y}<extra></extra>\",\"legendgroup\":\"Kindred\",\"marker\":{\"color\":\"#19d3f3\",\"symbol\":\"circle\"},\"mode\":\"markers\",\"name\":\"Kindred\",\"orientation\":\"v\",\"showlegend\":true,\"x\":[377],\"xaxis\":\"x\",\"y\":[6.1],\"yaxis\":\"y\",\"type\":\"scatter\"},{\"hovertemplate\":\"color=Kled<br>APCNT=%{x}<br>STEALRATE=%{y}<extra></extra>\",\"legendgroup\":\"Kled\",\"marker\":{\"color\":\"#FF6692\",\"symbol\":\"circle\"},\"mode\":\"markers\",\"name\":\"Kled\",\"orientation\":\"v\",\"showlegend\":true,\"x\":[210],\"xaxis\":\"x\",\"y\":[0.95],\"yaxis\":\"y\",\"type\":\"scatter\"},{\"hovertemplate\":\"color=Leblanc<br>APCNT=%{x}<br>STEALRATE=%{y}<extra></extra>\",\"legendgroup\":\"Leblanc\",\"marker\":{\"color\":\"#B6E880\",\"symbol\":\"circle\"},\"mode\":\"markers\",\"name\":\"Leblanc\",\"orientation\":\"v\",\"showlegend\":true,\"x\":[1121],\"xaxis\":\"x\",\"y\":[1.34],\"yaxis\":\"y\",\"type\":\"scatter\"},{\"hovertemplate\":\"color=LeeSin<br>APCNT=%{x}<br>STEALRATE=%{y}<extra></extra>\",\"legendgroup\":\"LeeSin\",\"marker\":{\"color\":\"#FF97FF\",\"symbol\":\"circle\"},\"mode\":\"markers\",\"name\":\"LeeSin\",\"orientation\":\"v\",\"showlegend\":true,\"x\":[2968],\"xaxis\":\"x\",\"y\":[11.15],\"yaxis\":\"y\",\"type\":\"scatter\"},{\"hovertemplate\":\"color=Lillia<br>APCNT=%{x}<br>STEALRATE=%{y}<extra></extra>\",\"legendgroup\":\"Lillia\",\"marker\":{\"color\":\"#FECB52\",\"symbol\":\"circle\"},\"mode\":\"markers\",\"name\":\"Lillia\",\"orientation\":\"v\",\"showlegend\":true,\"x\":[174],\"xaxis\":\"x\",\"y\":[1.72],\"yaxis\":\"y\",\"type\":\"scatter\"},{\"hovertemplate\":\"color=Lissandra<br>APCNT=%{x}<br>STEALRATE=%{y}<extra></extra>\",\"legendgroup\":\"Lissandra\",\"marker\":{\"color\":\"#636efa\",\"symbol\":\"circle\"},\"mode\":\"markers\",\"name\":\"Lissandra\",\"orientation\":\"v\",\"showlegend\":true,\"x\":[348],\"xaxis\":\"x\",\"y\":[1.15],\"yaxis\":\"y\",\"type\":\"scatter\"},{\"hovertemplate\":\"color=Lucian<br>APCNT=%{x}<br>STEALRATE=%{y}<extra></extra>\",\"legendgroup\":\"Lucian\",\"marker\":{\"color\":\"#EF553B\",\"symbol\":\"circle\"},\"mode\":\"markers\",\"name\":\"Lucian\",\"orientation\":\"v\",\"showlegend\":true,\"x\":[979],\"xaxis\":\"x\",\"y\":[0.72],\"yaxis\":\"y\",\"type\":\"scatter\"},{\"hovertemplate\":\"color=Lulu<br>APCNT=%{x}<br>STEALRATE=%{y}<extra></extra>\",\"legendgroup\":\"Lulu\",\"marker\":{\"color\":\"#00cc96\",\"symbol\":\"circle\"},\"mode\":\"markers\",\"name\":\"Lulu\",\"orientation\":\"v\",\"showlegend\":true,\"x\":[815],\"xaxis\":\"x\",\"y\":[0.12],\"yaxis\":\"y\",\"type\":\"scatter\"},{\"hovertemplate\":\"color=Lux<br>APCNT=%{x}<br>STEALRATE=%{y}<extra></extra>\",\"legendgroup\":\"Lux\",\"marker\":{\"color\":\"#ab63fa\",\"symbol\":\"circle\"},\"mode\":\"markers\",\"name\":\"Lux\",\"orientation\":\"v\",\"showlegend\":true,\"x\":[1459],\"xaxis\":\"x\",\"y\":[2.26],\"yaxis\":\"y\",\"type\":\"scatter\"},{\"hovertemplate\":\"color=Malphite<br>APCNT=%{x}<br>STEALRATE=%{y}<extra></extra>\",\"legendgroup\":\"Malphite\",\"marker\":{\"color\":\"#FFA15A\",\"symbol\":\"circle\"},\"mode\":\"markers\",\"name\":\"Malphite\",\"orientation\":\"v\",\"showlegend\":true,\"x\":[1297],\"xaxis\":\"x\",\"y\":[0.77],\"yaxis\":\"y\",\"type\":\"scatter\"},{\"hovertemplate\":\"color=Malzahar<br>APCNT=%{x}<br>STEALRATE=%{y}<extra></extra>\",\"legendgroup\":\"Malzahar\",\"marker\":{\"color\":\"#19d3f3\",\"symbol\":\"circle\"},\"mode\":\"markers\",\"name\":\"Malzahar\",\"orientation\":\"v\",\"showlegend\":true,\"x\":[333],\"xaxis\":\"x\",\"y\":[0.8999999999999999],\"yaxis\":\"y\",\"type\":\"scatter\"},{\"hovertemplate\":\"color=Maokai<br>APCNT=%{x}<br>STEALRATE=%{y}<extra></extra>\",\"legendgroup\":\"Maokai\",\"marker\":{\"color\":\"#FF6692\",\"symbol\":\"circle\"},\"mode\":\"markers\",\"name\":\"Maokai\",\"orientation\":\"v\",\"showlegend\":true,\"x\":[636],\"xaxis\":\"x\",\"y\":[4.25],\"yaxis\":\"y\",\"type\":\"scatter\"},{\"hovertemplate\":\"color=MasterYi<br>APCNT=%{x}<br>STEALRATE=%{y}<extra></extra>\",\"legendgroup\":\"MasterYi\",\"marker\":{\"color\":\"#B6E880\",\"symbol\":\"circle\"},\"mode\":\"markers\",\"name\":\"MasterYi\",\"orientation\":\"v\",\"showlegend\":true,\"x\":[520],\"xaxis\":\"x\",\"y\":[6.35],\"yaxis\":\"y\",\"type\":\"scatter\"},{\"hovertemplate\":\"color=MissFortune<br>APCNT=%{x}<br>STEALRATE=%{y}<extra></extra>\",\"legendgroup\":\"MissFortune\",\"marker\":{\"color\":\"#FF97FF\",\"symbol\":\"circle\"},\"mode\":\"markers\",\"name\":\"MissFortune\",\"orientation\":\"v\",\"showlegend\":true,\"x\":[585],\"xaxis\":\"x\",\"y\":[1.37],\"yaxis\":\"y\",\"type\":\"scatter\"},{\"hovertemplate\":\"color=MonkeyKing<br>APCNT=%{x}<br>STEALRATE=%{y}<extra></extra>\",\"legendgroup\":\"MonkeyKing\",\"marker\":{\"color\":\"#FECB52\",\"symbol\":\"circle\"},\"mode\":\"markers\",\"name\":\"MonkeyKing\",\"orientation\":\"v\",\"showlegend\":true,\"x\":[776],\"xaxis\":\"x\",\"y\":[7.090000000000001],\"yaxis\":\"y\",\"type\":\"scatter\"},{\"hovertemplate\":\"color=Mordekaiser<br>APCNT=%{x}<br>STEALRATE=%{y}<extra></extra>\",\"legendgroup\":\"Mordekaiser\",\"marker\":{\"color\":\"#636efa\",\"symbol\":\"circle\"},\"mode\":\"markers\",\"name\":\"Mordekaiser\",\"orientation\":\"v\",\"showlegend\":true,\"x\":[474],\"xaxis\":\"x\",\"y\":[0.42],\"yaxis\":\"y\",\"type\":\"scatter\"},{\"hovertemplate\":\"color=Morgana<br>APCNT=%{x}<br>STEALRATE=%{y}<extra></extra>\",\"legendgroup\":\"Morgana\",\"marker\":{\"color\":\"#EF553B\",\"symbol\":\"circle\"},\"mode\":\"markers\",\"name\":\"Morgana\",\"orientation\":\"v\",\"showlegend\":true,\"x\":[698],\"xaxis\":\"x\",\"y\":[1.0],\"yaxis\":\"y\",\"type\":\"scatter\"},{\"hovertemplate\":\"color=Nami<br>APCNT=%{x}<br>STEALRATE=%{y}<extra></extra>\",\"legendgroup\":\"Nami\",\"marker\":{\"color\":\"#00cc96\",\"symbol\":\"circle\"},\"mode\":\"markers\",\"name\":\"Nami\",\"orientation\":\"v\",\"showlegend\":true,\"x\":[442],\"xaxis\":\"x\",\"y\":[0.22999999999999998],\"yaxis\":\"y\",\"type\":\"scatter\"},{\"hovertemplate\":\"color=Nasus<br>APCNT=%{x}<br>STEALRATE=%{y}<extra></extra>\",\"legendgroup\":\"Nasus\",\"marker\":{\"color\":\"#ab63fa\",\"symbol\":\"circle\"},\"mode\":\"markers\",\"name\":\"Nasus\",\"orientation\":\"v\",\"showlegend\":true,\"x\":[418],\"xaxis\":\"x\",\"y\":[0.48],\"yaxis\":\"y\",\"type\":\"scatter\"},{\"hovertemplate\":\"color=Nautilus<br>APCNT=%{x}<br>STEALRATE=%{y}<extra></extra>\",\"legendgroup\":\"Nautilus\",\"marker\":{\"color\":\"#FFA15A\",\"symbol\":\"circle\"},\"mode\":\"markers\",\"name\":\"Nautilus\",\"orientation\":\"v\",\"showlegend\":true,\"x\":[1019],\"xaxis\":\"x\",\"y\":[0.2],\"yaxis\":\"y\",\"type\":\"scatter\"},{\"hovertemplate\":\"color=Neeko<br>APCNT=%{x}<br>STEALRATE=%{y}<extra></extra>\",\"legendgroup\":\"Neeko\",\"marker\":{\"color\":\"#19d3f3\",\"symbol\":\"circle\"},\"mode\":\"markers\",\"name\":\"Neeko\",\"orientation\":\"v\",\"showlegend\":true,\"x\":[143],\"xaxis\":\"x\",\"y\":[0.7000000000000001],\"yaxis\":\"y\",\"type\":\"scatter\"},{\"hovertemplate\":\"color=Nidalee<br>APCNT=%{x}<br>STEALRATE=%{y}<extra></extra>\",\"legendgroup\":\"Nidalee\",\"marker\":{\"color\":\"#FF6692\",\"symbol\":\"circle\"},\"mode\":\"markers\",\"name\":\"Nidalee\",\"orientation\":\"v\",\"showlegend\":true,\"x\":[783],\"xaxis\":\"x\",\"y\":[7.28],\"yaxis\":\"y\",\"type\":\"scatter\"},{\"hovertemplate\":\"color=Nocturne<br>APCNT=%{x}<br>STEALRATE=%{y}<extra></extra>\",\"legendgroup\":\"Nocturne\",\"marker\":{\"color\":\"#B6E880\",\"symbol\":\"circle\"},\"mode\":\"markers\",\"name\":\"Nocturne\",\"orientation\":\"v\",\"showlegend\":true,\"x\":[548],\"xaxis\":\"x\",\"y\":[6.569999999999999],\"yaxis\":\"y\",\"type\":\"scatter\"},{\"hovertemplate\":\"color=Nunu<br>APCNT=%{x}<br>STEALRATE=%{y}<extra></extra>\",\"legendgroup\":\"Nunu\",\"marker\":{\"color\":\"#FF97FF\",\"symbol\":\"circle\"},\"mode\":\"markers\",\"name\":\"Nunu\",\"orientation\":\"v\",\"showlegend\":true,\"x\":[352],\"xaxis\":\"x\",\"y\":[7.95],\"yaxis\":\"y\",\"type\":\"scatter\"},{\"hovertemplate\":\"color=Olaf<br>APCNT=%{x}<br>STEALRATE=%{y}<extra></extra>\",\"legendgroup\":\"Olaf\",\"marker\":{\"color\":\"#FECB52\",\"symbol\":\"circle\"},\"mode\":\"markers\",\"name\":\"Olaf\",\"orientation\":\"v\",\"showlegend\":true,\"x\":[259],\"xaxis\":\"x\",\"y\":[1.9300000000000002],\"yaxis\":\"y\",\"type\":\"scatter\"},{\"hovertemplate\":\"color=Orianna<br>APCNT=%{x}<br>STEALRATE=%{y}<extra></extra>\",\"legendgroup\":\"Orianna\",\"marker\":{\"color\":\"#636efa\",\"symbol\":\"circle\"},\"mode\":\"markers\",\"name\":\"Orianna\",\"orientation\":\"v\",\"showlegend\":true,\"x\":[322],\"xaxis\":\"x\",\"y\":[1.24],\"yaxis\":\"y\",\"type\":\"scatter\"},{\"hovertemplate\":\"color=Ornn<br>APCNT=%{x}<br>STEALRATE=%{y}<extra></extra>\",\"legendgroup\":\"Ornn\",\"marker\":{\"color\":\"#EF553B\",\"symbol\":\"circle\"},\"mode\":\"markers\",\"name\":\"Ornn\",\"orientation\":\"v\",\"showlegend\":true,\"x\":[429],\"xaxis\":\"x\",\"y\":[0.47000000000000003],\"yaxis\":\"y\",\"type\":\"scatter\"},{\"hovertemplate\":\"color=Pantheon<br>APCNT=%{x}<br>STEALRATE=%{y}<extra></extra>\",\"legendgroup\":\"Pantheon\",\"marker\":{\"color\":\"#00cc96\",\"symbol\":\"circle\"},\"mode\":\"markers\",\"name\":\"Pantheon\",\"orientation\":\"v\",\"showlegend\":true,\"x\":[864],\"xaxis\":\"x\",\"y\":[1.5],\"yaxis\":\"y\",\"type\":\"scatter\"},{\"hovertemplate\":\"color=Poppy<br>APCNT=%{x}<br>STEALRATE=%{y}<extra></extra>\",\"legendgroup\":\"Poppy\",\"marker\":{\"color\":\"#ab63fa\",\"symbol\":\"circle\"},\"mode\":\"markers\",\"name\":\"Poppy\",\"orientation\":\"v\",\"showlegend\":true,\"x\":[441],\"xaxis\":\"x\",\"y\":[4.99],\"yaxis\":\"y\",\"type\":\"scatter\"},{\"hovertemplate\":\"color=Pyke<br>APCNT=%{x}<br>STEALRATE=%{y}<extra></extra>\",\"legendgroup\":\"Pyke\",\"marker\":{\"color\":\"#FFA15A\",\"symbol\":\"circle\"},\"mode\":\"markers\",\"name\":\"Pyke\",\"orientation\":\"v\",\"showlegend\":true,\"x\":[664],\"xaxis\":\"x\",\"y\":[0.44999999999999996],\"yaxis\":\"y\",\"type\":\"scatter\"},{\"hovertemplate\":\"color=Qiyana<br>APCNT=%{x}<br>STEALRATE=%{y}<extra></extra>\",\"legendgroup\":\"Qiyana\",\"marker\":{\"color\":\"#19d3f3\",\"symbol\":\"circle\"},\"mode\":\"markers\",\"name\":\"Qiyana\",\"orientation\":\"v\",\"showlegend\":true,\"x\":[175],\"xaxis\":\"x\",\"y\":[1.1400000000000001],\"yaxis\":\"y\",\"type\":\"scatter\"},{\"hovertemplate\":\"color=Quinn<br>APCNT=%{x}<br>STEALRATE=%{y}<extra></extra>\",\"legendgroup\":\"Quinn\",\"marker\":{\"color\":\"#FF6692\",\"symbol\":\"circle\"},\"mode\":\"markers\",\"name\":\"Quinn\",\"orientation\":\"v\",\"showlegend\":true,\"x\":[211],\"xaxis\":\"x\",\"y\":[0.47000000000000003],\"yaxis\":\"y\",\"type\":\"scatter\"},{\"hovertemplate\":\"color=Rakan<br>APCNT=%{x}<br>STEALRATE=%{y}<extra></extra>\",\"legendgroup\":\"Rakan\",\"marker\":{\"color\":\"#B6E880\",\"symbol\":\"circle\"},\"mode\":\"markers\",\"name\":\"Rakan\",\"orientation\":\"v\",\"showlegend\":true,\"x\":[739],\"xaxis\":\"x\",\"y\":[0.13999999999999999],\"yaxis\":\"y\",\"type\":\"scatter\"},{\"hovertemplate\":\"color=Rammus<br>APCNT=%{x}<br>STEALRATE=%{y}<extra></extra>\",\"legendgroup\":\"Rammus\",\"marker\":{\"color\":\"#FF97FF\",\"symbol\":\"circle\"},\"mode\":\"markers\",\"name\":\"Rammus\",\"orientation\":\"v\",\"showlegend\":true,\"x\":[318],\"xaxis\":\"x\",\"y\":[4.09],\"yaxis\":\"y\",\"type\":\"scatter\"},{\"hovertemplate\":\"color=RekSai<br>APCNT=%{x}<br>STEALRATE=%{y}<extra></extra>\",\"legendgroup\":\"RekSai\",\"marker\":{\"color\":\"#FECB52\",\"symbol\":\"circle\"},\"mode\":\"markers\",\"name\":\"RekSai\",\"orientation\":\"v\",\"showlegend\":true,\"x\":[174],\"xaxis\":\"x\",\"y\":[7.470000000000001],\"yaxis\":\"y\",\"type\":\"scatter\"},{\"hovertemplate\":\"color=Renata<br>APCNT=%{x}<br>STEALRATE=%{y}<extra></extra>\",\"legendgroup\":\"Renata\",\"marker\":{\"color\":\"#636efa\",\"symbol\":\"circle\"},\"mode\":\"markers\",\"name\":\"Renata\",\"orientation\":\"v\",\"showlegend\":true,\"x\":[97],\"xaxis\":\"x\",\"y\":[1.03],\"yaxis\":\"y\",\"type\":\"scatter\"},{\"hovertemplate\":\"color=Renekton<br>APCNT=%{x}<br>STEALRATE=%{y}<extra></extra>\",\"legendgroup\":\"Renekton\",\"marker\":{\"color\":\"#EF553B\",\"symbol\":\"circle\"},\"mode\":\"markers\",\"name\":\"Renekton\",\"orientation\":\"v\",\"showlegend\":true,\"x\":[679],\"xaxis\":\"x\",\"y\":[0.29],\"yaxis\":\"y\",\"type\":\"scatter\"},{\"hovertemplate\":\"color=Rengar<br>APCNT=%{x}<br>STEALRATE=%{y}<extra></extra>\",\"legendgroup\":\"Rengar\",\"marker\":{\"color\":\"#00cc96\",\"symbol\":\"circle\"},\"mode\":\"markers\",\"name\":\"Rengar\",\"orientation\":\"v\",\"showlegend\":true,\"x\":[377],\"xaxis\":\"x\",\"y\":[1.59],\"yaxis\":\"y\",\"type\":\"scatter\"},{\"hovertemplate\":\"color=Riven<br>APCNT=%{x}<br>STEALRATE=%{y}<extra></extra>\",\"legendgroup\":\"Riven\",\"marker\":{\"color\":\"#ab63fa\",\"symbol\":\"circle\"},\"mode\":\"markers\",\"name\":\"Riven\",\"orientation\":\"v\",\"showlegend\":true,\"x\":[419],\"xaxis\":\"x\",\"y\":[0.48],\"yaxis\":\"y\",\"type\":\"scatter\"},{\"hovertemplate\":\"color=Rumble<br>APCNT=%{x}<br>STEALRATE=%{y}<extra></extra>\",\"legendgroup\":\"Rumble\",\"marker\":{\"color\":\"#FFA15A\",\"symbol\":\"circle\"},\"mode\":\"markers\",\"name\":\"Rumble\",\"orientation\":\"v\",\"showlegend\":true,\"x\":[679],\"xaxis\":\"x\",\"y\":[0.88],\"yaxis\":\"y\",\"type\":\"scatter\"},{\"hovertemplate\":\"color=Ryze<br>APCNT=%{x}<br>STEALRATE=%{y}<extra></extra>\",\"legendgroup\":\"Ryze\",\"marker\":{\"color\":\"#19d3f3\",\"symbol\":\"circle\"},\"mode\":\"markers\",\"name\":\"Ryze\",\"orientation\":\"v\",\"showlegend\":true,\"x\":[429],\"xaxis\":\"x\",\"y\":[1.17],\"yaxis\":\"y\",\"type\":\"scatter\"},{\"hovertemplate\":\"color=Samira<br>APCNT=%{x}<br>STEALRATE=%{y}<extra></extra>\",\"legendgroup\":\"Samira\",\"marker\":{\"color\":\"#FF6692\",\"symbol\":\"circle\"},\"mode\":\"markers\",\"name\":\"Samira\",\"orientation\":\"v\",\"showlegend\":true,\"x\":[949],\"xaxis\":\"x\",\"y\":[0.53],\"yaxis\":\"y\",\"type\":\"scatter\"},{\"hovertemplate\":\"color=Sejuani<br>APCNT=%{x}<br>STEALRATE=%{y}<extra></extra>\",\"legendgroup\":\"Sejuani\",\"marker\":{\"color\":\"#B6E880\",\"symbol\":\"circle\"},\"mode\":\"markers\",\"name\":\"Sejuani\",\"orientation\":\"v\",\"showlegend\":true,\"x\":[625],\"xaxis\":\"x\",\"y\":[7.5200000000000005],\"yaxis\":\"y\",\"type\":\"scatter\"},{\"hovertemplate\":\"color=Seraphine<br>APCNT=%{x}<br>STEALRATE=%{y}<extra></extra>\",\"legendgroup\":\"Seraphine\",\"marker\":{\"color\":\"#FF97FF\",\"symbol\":\"circle\"},\"mode\":\"markers\",\"name\":\"Seraphine\",\"orientation\":\"v\",\"showlegend\":true,\"x\":[221],\"xaxis\":\"x\",\"y\":[0.44999999999999996],\"yaxis\":\"y\",\"type\":\"scatter\"},{\"hovertemplate\":\"color=Sett<br>APCNT=%{x}<br>STEALRATE=%{y}<extra></extra>\",\"legendgroup\":\"Sett\",\"marker\":{\"color\":\"#FECB52\",\"symbol\":\"circle\"},\"mode\":\"markers\",\"name\":\"Sett\",\"orientation\":\"v\",\"showlegend\":true,\"x\":[720],\"xaxis\":\"x\",\"y\":[0.42],\"yaxis\":\"y\",\"type\":\"scatter\"},{\"hovertemplate\":\"color=Shaco<br>APCNT=%{x}<br>STEALRATE=%{y}<extra></extra>\",\"legendgroup\":\"Shaco\",\"marker\":{\"color\":\"#636efa\",\"symbol\":\"circle\"},\"mode\":\"markers\",\"name\":\"Shaco\",\"orientation\":\"v\",\"showlegend\":true,\"x\":[853],\"xaxis\":\"x\",\"y\":[9.379999999999999],\"yaxis\":\"y\",\"type\":\"scatter\"},{\"hovertemplate\":\"color=Shen<br>APCNT=%{x}<br>STEALRATE=%{y}<extra></extra>\",\"legendgroup\":\"Shen\",\"marker\":{\"color\":\"#EF553B\",\"symbol\":\"circle\"},\"mode\":\"markers\",\"name\":\"Shen\",\"orientation\":\"v\",\"showlegend\":true,\"x\":[411],\"xaxis\":\"x\",\"y\":[0.49],\"yaxis\":\"y\",\"type\":\"scatter\"},{\"hovertemplate\":\"color=Shyvana<br>APCNT=%{x}<br>STEALRATE=%{y}<extra></extra>\",\"legendgroup\":\"Shyvana\",\"marker\":{\"color\":\"#00cc96\",\"symbol\":\"circle\"},\"mode\":\"markers\",\"name\":\"Shyvana\",\"orientation\":\"v\",\"showlegend\":true,\"x\":[150],\"xaxis\":\"x\",\"y\":[7.33],\"yaxis\":\"y\",\"type\":\"scatter\"},{\"hovertemplate\":\"color=Singed<br>APCNT=%{x}<br>STEALRATE=%{y}<extra></extra>\",\"legendgroup\":\"Singed\",\"marker\":{\"color\":\"#ab63fa\",\"symbol\":\"circle\"},\"mode\":\"markers\",\"name\":\"Singed\",\"orientation\":\"v\",\"showlegend\":true,\"x\":[222],\"xaxis\":\"x\",\"y\":[0.44999999999999996],\"yaxis\":\"y\",\"type\":\"scatter\"},{\"hovertemplate\":\"color=Sion<br>APCNT=%{x}<br>STEALRATE=%{y}<extra></extra>\",\"legendgroup\":\"Sion\",\"marker\":{\"color\":\"#FFA15A\",\"symbol\":\"circle\"},\"mode\":\"markers\",\"name\":\"Sion\",\"orientation\":\"v\",\"showlegend\":true,\"x\":[330],\"xaxis\":\"x\",\"y\":[0.3],\"yaxis\":\"y\",\"type\":\"scatter\"},{\"hovertemplate\":\"color=Sivir<br>APCNT=%{x}<br>STEALRATE=%{y}<extra></extra>\",\"legendgroup\":\"Sivir\",\"marker\":{\"color\":\"#19d3f3\",\"symbol\":\"circle\"},\"mode\":\"markers\",\"name\":\"Sivir\",\"orientation\":\"v\",\"showlegend\":true,\"x\":[629],\"xaxis\":\"x\",\"y\":[0.95],\"yaxis\":\"y\",\"type\":\"scatter\"},{\"hovertemplate\":\"color=Skarner<br>APCNT=%{x}<br>STEALRATE=%{y}<extra></extra>\",\"legendgroup\":\"Skarner\",\"marker\":{\"color\":\"#FF6692\",\"symbol\":\"circle\"},\"mode\":\"markers\",\"name\":\"Skarner\",\"orientation\":\"v\",\"showlegend\":true,\"x\":[47],\"xaxis\":\"x\",\"y\":[12.770000000000001],\"yaxis\":\"y\",\"type\":\"scatter\"},{\"hovertemplate\":\"color=Soraka<br>APCNT=%{x}<br>STEALRATE=%{y}<extra></extra>\",\"legendgroup\":\"Soraka\",\"marker\":{\"color\":\"#B6E880\",\"symbol\":\"circle\"},\"mode\":\"markers\",\"name\":\"Soraka\",\"orientation\":\"v\",\"showlegend\":true,\"x\":[304],\"xaxis\":\"x\",\"y\":[0.33],\"yaxis\":\"y\",\"type\":\"scatter\"},{\"hovertemplate\":\"color=Swain<br>APCNT=%{x}<br>STEALRATE=%{y}<extra></extra>\",\"legendgroup\":\"Swain\",\"marker\":{\"color\":\"#FF97FF\",\"symbol\":\"circle\"},\"mode\":\"markers\",\"name\":\"Swain\",\"orientation\":\"v\",\"showlegend\":true,\"x\":[473],\"xaxis\":\"x\",\"y\":[0.21],\"yaxis\":\"y\",\"type\":\"scatter\"},{\"hovertemplate\":\"color=Sylas<br>APCNT=%{x}<br>STEALRATE=%{y}<extra></extra>\",\"legendgroup\":\"Sylas\",\"marker\":{\"color\":\"#FECB52\",\"symbol\":\"circle\"},\"mode\":\"markers\",\"name\":\"Sylas\",\"orientation\":\"v\",\"showlegend\":true,\"x\":[2137],\"xaxis\":\"x\",\"y\":[4.31],\"yaxis\":\"y\",\"type\":\"scatter\"},{\"hovertemplate\":\"color=Syndra<br>APCNT=%{x}<br>STEALRATE=%{y}<extra></extra>\",\"legendgroup\":\"Syndra\",\"marker\":{\"color\":\"#636efa\",\"symbol\":\"circle\"},\"mode\":\"markers\",\"name\":\"Syndra\",\"orientation\":\"v\",\"showlegend\":true,\"x\":[347],\"xaxis\":\"x\",\"y\":[0.58],\"yaxis\":\"y\",\"type\":\"scatter\"},{\"hovertemplate\":\"color=TahmKench<br>APCNT=%{x}<br>STEALRATE=%{y}<extra></extra>\",\"legendgroup\":\"TahmKench\",\"marker\":{\"color\":\"#EF553B\",\"symbol\":\"circle\"},\"mode\":\"markers\",\"name\":\"TahmKench\",\"orientation\":\"v\",\"showlegend\":true,\"x\":[207],\"xaxis\":\"x\",\"y\":[0.97],\"yaxis\":\"y\",\"type\":\"scatter\"},{\"hovertemplate\":\"color=Taliyah<br>APCNT=%{x}<br>STEALRATE=%{y}<extra></extra>\",\"legendgroup\":\"Taliyah\",\"marker\":{\"color\":\"#00cc96\",\"symbol\":\"circle\"},\"mode\":\"markers\",\"name\":\"Taliyah\",\"orientation\":\"v\",\"showlegend\":true,\"x\":[201],\"xaxis\":\"x\",\"y\":[1.9900000000000002],\"yaxis\":\"y\",\"type\":\"scatter\"},{\"hovertemplate\":\"color=Talon<br>APCNT=%{x}<br>STEALRATE=%{y}<extra></extra>\",\"legendgroup\":\"Talon\",\"marker\":{\"color\":\"#ab63fa\",\"symbol\":\"circle\"},\"mode\":\"markers\",\"name\":\"Talon\",\"orientation\":\"v\",\"showlegend\":true,\"x\":[582],\"xaxis\":\"x\",\"y\":[3.09],\"yaxis\":\"y\",\"type\":\"scatter\"},{\"hovertemplate\":\"color=Teemo<br>APCNT=%{x}<br>STEALRATE=%{y}<extra></extra>\",\"legendgroup\":\"Teemo\",\"marker\":{\"color\":\"#FFA15A\",\"symbol\":\"circle\"},\"mode\":\"markers\",\"name\":\"Teemo\",\"orientation\":\"v\",\"showlegend\":true,\"x\":[340],\"xaxis\":\"x\",\"y\":[0.29],\"yaxis\":\"y\",\"type\":\"scatter\"},{\"hovertemplate\":\"color=Thresh<br>APCNT=%{x}<br>STEALRATE=%{y}<extra></extra>\",\"legendgroup\":\"Thresh\",\"marker\":{\"color\":\"#19d3f3\",\"symbol\":\"circle\"},\"mode\":\"markers\",\"name\":\"Thresh\",\"orientation\":\"v\",\"showlegend\":true,\"x\":[1872],\"xaxis\":\"x\",\"y\":[0.21],\"yaxis\":\"y\",\"type\":\"scatter\"},{\"hovertemplate\":\"color=Tristana<br>APCNT=%{x}<br>STEALRATE=%{y}<extra></extra>\",\"legendgroup\":\"Tristana\",\"marker\":{\"color\":\"#FF6692\",\"symbol\":\"circle\"},\"mode\":\"markers\",\"name\":\"Tristana\",\"orientation\":\"v\",\"showlegend\":true,\"x\":[523],\"xaxis\":\"x\",\"y\":[0.19],\"yaxis\":\"y\",\"type\":\"scatter\"},{\"hovertemplate\":\"color=Trundle<br>APCNT=%{x}<br>STEALRATE=%{y}<extra></extra>\",\"legendgroup\":\"Trundle\",\"marker\":{\"color\":\"#B6E880\",\"symbol\":\"circle\"},\"mode\":\"markers\",\"name\":\"Trundle\",\"orientation\":\"v\",\"showlegend\":true,\"x\":[158],\"xaxis\":\"x\",\"y\":[2.53],\"yaxis\":\"y\",\"type\":\"scatter\"},{\"hovertemplate\":\"color=Tryndamere<br>APCNT=%{x}<br>STEALRATE=%{y}<extra></extra>\",\"legendgroup\":\"Tryndamere\",\"marker\":{\"color\":\"#FF97FF\",\"symbol\":\"circle\"},\"mode\":\"markers\",\"name\":\"Tryndamere\",\"orientation\":\"v\",\"showlegend\":true,\"x\":[183],\"xaxis\":\"x\",\"y\":[0.5499999999999999],\"yaxis\":\"y\",\"type\":\"scatter\"},{\"hovertemplate\":\"color=TwistedFate<br>APCNT=%{x}<br>STEALRATE=%{y}<extra></extra>\",\"legendgroup\":\"TwistedFate\",\"marker\":{\"color\":\"#FECB52\",\"symbol\":\"circle\"},\"mode\":\"markers\",\"name\":\"TwistedFate\",\"orientation\":\"v\",\"showlegend\":true,\"x\":[380],\"xaxis\":\"x\",\"y\":[0.79],\"yaxis\":\"y\",\"type\":\"scatter\"},{\"hovertemplate\":\"color=Twitch<br>APCNT=%{x}<br>STEALRATE=%{y}<extra></extra>\",\"legendgroup\":\"Twitch\",\"marker\":{\"color\":\"#636efa\",\"symbol\":\"circle\"},\"mode\":\"markers\",\"name\":\"Twitch\",\"orientation\":\"v\",\"showlegend\":true,\"x\":[395],\"xaxis\":\"x\",\"y\":[1.52],\"yaxis\":\"y\",\"type\":\"scatter\"},{\"hovertemplate\":\"color=Udyr<br>APCNT=%{x}<br>STEALRATE=%{y}<extra></extra>\",\"legendgroup\":\"Udyr\",\"marker\":{\"color\":\"#EF553B\",\"symbol\":\"circle\"},\"mode\":\"markers\",\"name\":\"Udyr\",\"orientation\":\"v\",\"showlegend\":true,\"x\":[243],\"xaxis\":\"x\",\"y\":[2.4699999999999998],\"yaxis\":\"y\",\"type\":\"scatter\"},{\"hovertemplate\":\"color=Urgot<br>APCNT=%{x}<br>STEALRATE=%{y}<extra></extra>\",\"legendgroup\":\"Urgot\",\"marker\":{\"color\":\"#00cc96\",\"symbol\":\"circle\"},\"mode\":\"markers\",\"name\":\"Urgot\",\"orientation\":\"v\",\"showlegend\":true,\"x\":[115],\"xaxis\":\"x\",\"y\":[1.7399999999999998],\"yaxis\":\"y\",\"type\":\"scatter\"},{\"hovertemplate\":\"color=Varus<br>APCNT=%{x}<br>STEALRATE=%{y}<extra></extra>\",\"legendgroup\":\"Varus\",\"marker\":{\"color\":\"#ab63fa\",\"symbol\":\"circle\"},\"mode\":\"markers\",\"name\":\"Varus\",\"orientation\":\"v\",\"showlegend\":true,\"x\":[1303],\"xaxis\":\"x\",\"y\":[1.38],\"yaxis\":\"y\",\"type\":\"scatter\"},{\"hovertemplate\":\"color=Vayne<br>APCNT=%{x}<br>STEALRATE=%{y}<extra></extra>\",\"legendgroup\":\"Vayne\",\"marker\":{\"color\":\"#FFA15A\",\"symbol\":\"circle\"},\"mode\":\"markers\",\"name\":\"Vayne\",\"orientation\":\"v\",\"showlegend\":true,\"x\":[604],\"xaxis\":\"x\",\"y\":[0.16999999999999998],\"yaxis\":\"y\",\"type\":\"scatter\"},{\"hovertemplate\":\"color=Veigar<br>APCNT=%{x}<br>STEALRATE=%{y}<extra></extra>\",\"legendgroup\":\"Veigar\",\"marker\":{\"color\":\"#19d3f3\",\"symbol\":\"circle\"},\"mode\":\"markers\",\"name\":\"Veigar\",\"orientation\":\"v\",\"showlegend\":true,\"x\":[1179],\"xaxis\":\"x\",\"y\":[0.6799999999999999],\"yaxis\":\"y\",\"type\":\"scatter\"},{\"hovertemplate\":\"color=Velkoz<br>APCNT=%{x}<br>STEALRATE=%{y}<extra></extra>\",\"legendgroup\":\"Velkoz\",\"marker\":{\"color\":\"#FF6692\",\"symbol\":\"circle\"},\"mode\":\"markers\",\"name\":\"Velkoz\",\"orientation\":\"v\",\"showlegend\":true,\"x\":[198],\"xaxis\":\"x\",\"y\":[1.52],\"yaxis\":\"y\",\"type\":\"scatter\"},{\"hovertemplate\":\"color=Vex<br>APCNT=%{x}<br>STEALRATE=%{y}<extra></extra>\",\"legendgroup\":\"Vex\",\"marker\":{\"color\":\"#B6E880\",\"symbol\":\"circle\"},\"mode\":\"markers\",\"name\":\"Vex\",\"orientation\":\"v\",\"showlegend\":true,\"x\":[548],\"xaxis\":\"x\",\"y\":[0.36],\"yaxis\":\"y\",\"type\":\"scatter\"},{\"hovertemplate\":\"color=Vi<br>APCNT=%{x}<br>STEALRATE=%{y}<extra></extra>\",\"legendgroup\":\"Vi\",\"marker\":{\"color\":\"#FF97FF\",\"symbol\":\"circle\"},\"mode\":\"markers\",\"name\":\"Vi\",\"orientation\":\"v\",\"showlegend\":true,\"x\":[789],\"xaxis\":\"x\",\"y\":[8.75],\"yaxis\":\"y\",\"type\":\"scatter\"},{\"hovertemplate\":\"color=Viego<br>APCNT=%{x}<br>STEALRATE=%{y}<extra></extra>\",\"legendgroup\":\"Viego\",\"marker\":{\"color\":\"#FECB52\",\"symbol\":\"circle\"},\"mode\":\"markers\",\"name\":\"Viego\",\"orientation\":\"v\",\"showlegend\":true,\"x\":[795],\"xaxis\":\"x\",\"y\":[7.670000000000001],\"yaxis\":\"y\",\"type\":\"scatter\"},{\"hovertemplate\":\"color=Viktor<br>APCNT=%{x}<br>STEALRATE=%{y}<extra></extra>\",\"legendgroup\":\"Viktor\",\"marker\":{\"color\":\"#636efa\",\"symbol\":\"circle\"},\"mode\":\"markers\",\"name\":\"Viktor\",\"orientation\":\"v\",\"showlegend\":true,\"x\":[888],\"xaxis\":\"x\",\"y\":[0.5599999999999999],\"yaxis\":\"y\",\"type\":\"scatter\"},{\"hovertemplate\":\"color=Vladimir<br>APCNT=%{x}<br>STEALRATE=%{y}<extra></extra>\",\"legendgroup\":\"Vladimir\",\"marker\":{\"color\":\"#EF553B\",\"symbol\":\"circle\"},\"mode\":\"markers\",\"name\":\"Vladimir\",\"orientation\":\"v\",\"showlegend\":true,\"x\":[363],\"xaxis\":\"x\",\"y\":[0.5499999999999999],\"yaxis\":\"y\",\"type\":\"scatter\"},{\"hovertemplate\":\"color=Volibear<br>APCNT=%{x}<br>STEALRATE=%{y}<extra></extra>\",\"legendgroup\":\"Volibear\",\"marker\":{\"color\":\"#00cc96\",\"symbol\":\"circle\"},\"mode\":\"markers\",\"name\":\"Volibear\",\"orientation\":\"v\",\"showlegend\":true,\"x\":[126],\"xaxis\":\"x\",\"y\":[2.3800000000000003],\"yaxis\":\"y\",\"type\":\"scatter\"},{\"hovertemplate\":\"color=Warwick<br>APCNT=%{x}<br>STEALRATE=%{y}<extra></extra>\",\"legendgroup\":\"Warwick\",\"marker\":{\"color\":\"#ab63fa\",\"symbol\":\"circle\"},\"mode\":\"markers\",\"name\":\"Warwick\",\"orientation\":\"v\",\"showlegend\":true,\"x\":[401],\"xaxis\":\"x\",\"y\":[2.9899999999999998],\"yaxis\":\"y\",\"type\":\"scatter\"},{\"hovertemplate\":\"color=Xayah<br>APCNT=%{x}<br>STEALRATE=%{y}<extra></extra>\",\"legendgroup\":\"Xayah\",\"marker\":{\"color\":\"#FFA15A\",\"symbol\":\"circle\"},\"mode\":\"markers\",\"name\":\"Xayah\",\"orientation\":\"v\",\"showlegend\":true,\"x\":[1597],\"xaxis\":\"x\",\"y\":[0.5599999999999999],\"yaxis\":\"y\",\"type\":\"scatter\"},{\"hovertemplate\":\"color=Xerath<br>APCNT=%{x}<br>STEALRATE=%{y}<extra></extra>\",\"legendgroup\":\"Xerath\",\"marker\":{\"color\":\"#19d3f3\",\"symbol\":\"circle\"},\"mode\":\"markers\",\"name\":\"Xerath\",\"orientation\":\"v\",\"showlegend\":true,\"x\":[1013],\"xaxis\":\"x\",\"y\":[1.38],\"yaxis\":\"y\",\"type\":\"scatter\"},{\"hovertemplate\":\"color=XinZhao<br>APCNT=%{x}<br>STEALRATE=%{y}<extra></extra>\",\"legendgroup\":\"XinZhao\",\"marker\":{\"color\":\"#FF6692\",\"symbol\":\"circle\"},\"mode\":\"markers\",\"name\":\"XinZhao\",\"orientation\":\"v\",\"showlegend\":true,\"x\":[300],\"xaxis\":\"x\",\"y\":[4.67],\"yaxis\":\"y\",\"type\":\"scatter\"},{\"hovertemplate\":\"color=Yasuo<br>APCNT=%{x}<br>STEALRATE=%{y}<extra></extra>\",\"legendgroup\":\"Yasuo\",\"marker\":{\"color\":\"#B6E880\",\"symbol\":\"circle\"},\"mode\":\"markers\",\"name\":\"Yasuo\",\"orientation\":\"v\",\"showlegend\":true,\"x\":[925],\"xaxis\":\"x\",\"y\":[0.86],\"yaxis\":\"y\",\"type\":\"scatter\"},{\"hovertemplate\":\"color=Yone<br>APCNT=%{x}<br>STEALRATE=%{y}<extra></extra>\",\"legendgroup\":\"Yone\",\"marker\":{\"color\":\"#FF97FF\",\"symbol\":\"circle\"},\"mode\":\"markers\",\"name\":\"Yone\",\"orientation\":\"v\",\"showlegend\":true,\"x\":[1326],\"xaxis\":\"x\",\"y\":[0.75],\"yaxis\":\"y\",\"type\":\"scatter\"},{\"hovertemplate\":\"color=Yorick<br>APCNT=%{x}<br>STEALRATE=%{y}<extra></extra>\",\"legendgroup\":\"Yorick\",\"marker\":{\"color\":\"#FECB52\",\"symbol\":\"circle\"},\"mode\":\"markers\",\"name\":\"Yorick\",\"orientation\":\"v\",\"showlegend\":true,\"x\":[520],\"xaxis\":\"x\",\"y\":[0.38],\"yaxis\":\"y\",\"type\":\"scatter\"},{\"hovertemplate\":\"color=Zac<br>APCNT=%{x}<br>STEALRATE=%{y}<extra></extra>\",\"legendgroup\":\"Zac\",\"marker\":{\"color\":\"#636efa\",\"symbol\":\"circle\"},\"mode\":\"markers\",\"name\":\"Zac\",\"orientation\":\"v\",\"showlegend\":true,\"x\":[882],\"xaxis\":\"x\",\"y\":[6.460000000000001],\"yaxis\":\"y\",\"type\":\"scatter\"},{\"hovertemplate\":\"color=Zed<br>APCNT=%{x}<br>STEALRATE=%{y}<extra></extra>\",\"legendgroup\":\"Zed\",\"marker\":{\"color\":\"#EF553B\",\"symbol\":\"circle\"},\"mode\":\"markers\",\"name\":\"Zed\",\"orientation\":\"v\",\"showlegend\":true,\"x\":[1255],\"xaxis\":\"x\",\"y\":[2.07],\"yaxis\":\"y\",\"type\":\"scatter\"},{\"hovertemplate\":\"color=Zeri<br>APCNT=%{x}<br>STEALRATE=%{y}<extra></extra>\",\"legendgroup\":\"Zeri\",\"marker\":{\"color\":\"#00cc96\",\"symbol\":\"circle\"},\"mode\":\"markers\",\"name\":\"Zeri\",\"orientation\":\"v\",\"showlegend\":true,\"x\":[852],\"xaxis\":\"x\",\"y\":[0.35000000000000003],\"yaxis\":\"y\",\"type\":\"scatter\"},{\"hovertemplate\":\"color=Ziggs<br>APCNT=%{x}<br>STEALRATE=%{y}<extra></extra>\",\"legendgroup\":\"Ziggs\",\"marker\":{\"color\":\"#ab63fa\",\"symbol\":\"circle\"},\"mode\":\"markers\",\"name\":\"Ziggs\",\"orientation\":\"v\",\"showlegend\":true,\"x\":[209],\"xaxis\":\"x\",\"y\":[2.39],\"yaxis\":\"y\",\"type\":\"scatter\"},{\"hovertemplate\":\"color=Zilean<br>APCNT=%{x}<br>STEALRATE=%{y}<extra></extra>\",\"legendgroup\":\"Zilean\",\"marker\":{\"color\":\"#FFA15A\",\"symbol\":\"circle\"},\"mode\":\"markers\",\"name\":\"Zilean\",\"orientation\":\"v\",\"showlegend\":true,\"x\":[234],\"xaxis\":\"x\",\"y\":[1.28],\"yaxis\":\"y\",\"type\":\"scatter\"},{\"hovertemplate\":\"color=Zoe<br>APCNT=%{x}<br>STEALRATE=%{y}<extra></extra>\",\"legendgroup\":\"Zoe\",\"marker\":{\"color\":\"#19d3f3\",\"symbol\":\"circle\"},\"mode\":\"markers\",\"name\":\"Zoe\",\"orientation\":\"v\",\"showlegend\":true,\"x\":[315],\"xaxis\":\"x\",\"y\":[1.9],\"yaxis\":\"y\",\"type\":\"scatter\"},{\"hovertemplate\":\"color=Zyra<br>APCNT=%{x}<br>STEALRATE=%{y}<extra></extra>\",\"legendgroup\":\"Zyra\",\"marker\":{\"color\":\"#FF6692\",\"symbol\":\"circle\"},\"mode\":\"markers\",\"name\":\"Zyra\",\"orientation\":\"v\",\"showlegend\":true,\"x\":[293],\"xaxis\":\"x\",\"y\":[1.02],\"yaxis\":\"y\",\"type\":\"scatter\"}],                        {\"legend\":{\"title\":{\"text\":\"color\"},\"tracegroupgap\":0},\"template\":{\"data\":{\"barpolar\":[{\"marker\":{\"line\":{\"color\":\"#E5ECF6\",\"width\":0.5},\"pattern\":{\"fillmode\":\"overlay\",\"size\":10,\"solidity\":0.2}},\"type\":\"barpolar\"}],\"bar\":[{\"error_x\":{\"color\":\"#2a3f5f\"},\"error_y\":{\"color\":\"#2a3f5f\"},\"marker\":{\"line\":{\"color\":\"#E5ECF6\",\"width\":0.5},\"pattern\":{\"fillmode\":\"overlay\",\"size\":10,\"solidity\":0.2}},\"type\":\"bar\"}],\"carpet\":[{\"aaxis\":{\"endlinecolor\":\"#2a3f5f\",\"gridcolor\":\"white\",\"linecolor\":\"white\",\"minorgridcolor\":\"white\",\"startlinecolor\":\"#2a3f5f\"},\"baxis\":{\"endlinecolor\":\"#2a3f5f\",\"gridcolor\":\"white\",\"linecolor\":\"white\",\"minorgridcolor\":\"white\",\"startlinecolor\":\"#2a3f5f\"},\"type\":\"carpet\"}],\"choropleth\":[{\"colorbar\":{\"outlinewidth\":0,\"ticks\":\"\"},\"type\":\"choropleth\"}],\"contourcarpet\":[{\"colorbar\":{\"outlinewidth\":0,\"ticks\":\"\"},\"type\":\"contourcarpet\"}],\"contour\":[{\"colorbar\":{\"outlinewidth\":0,\"ticks\":\"\"},\"colorscale\":[[0.0,\"#0d0887\"],[0.1111111111111111,\"#46039f\"],[0.2222222222222222,\"#7201a8\"],[0.3333333333333333,\"#9c179e\"],[0.4444444444444444,\"#bd3786\"],[0.5555555555555556,\"#d8576b\"],[0.6666666666666666,\"#ed7953\"],[0.7777777777777778,\"#fb9f3a\"],[0.8888888888888888,\"#fdca26\"],[1.0,\"#f0f921\"]],\"type\":\"contour\"}],\"heatmapgl\":[{\"colorbar\":{\"outlinewidth\":0,\"ticks\":\"\"},\"colorscale\":[[0.0,\"#0d0887\"],[0.1111111111111111,\"#46039f\"],[0.2222222222222222,\"#7201a8\"],[0.3333333333333333,\"#9c179e\"],[0.4444444444444444,\"#bd3786\"],[0.5555555555555556,\"#d8576b\"],[0.6666666666666666,\"#ed7953\"],[0.7777777777777778,\"#fb9f3a\"],[0.8888888888888888,\"#fdca26\"],[1.0,\"#f0f921\"]],\"type\":\"heatmapgl\"}],\"heatmap\":[{\"colorbar\":{\"outlinewidth\":0,\"ticks\":\"\"},\"colorscale\":[[0.0,\"#0d0887\"],[0.1111111111111111,\"#46039f\"],[0.2222222222222222,\"#7201a8\"],[0.3333333333333333,\"#9c179e\"],[0.4444444444444444,\"#bd3786\"],[0.5555555555555556,\"#d8576b\"],[0.6666666666666666,\"#ed7953\"],[0.7777777777777778,\"#fb9f3a\"],[0.8888888888888888,\"#fdca26\"],[1.0,\"#f0f921\"]],\"type\":\"heatmap\"}],\"histogram2dcontour\":[{\"colorbar\":{\"outlinewidth\":0,\"ticks\":\"\"},\"colorscale\":[[0.0,\"#0d0887\"],[0.1111111111111111,\"#46039f\"],[0.2222222222222222,\"#7201a8\"],[0.3333333333333333,\"#9c179e\"],[0.4444444444444444,\"#bd3786\"],[0.5555555555555556,\"#d8576b\"],[0.6666666666666666,\"#ed7953\"],[0.7777777777777778,\"#fb9f3a\"],[0.8888888888888888,\"#fdca26\"],[1.0,\"#f0f921\"]],\"type\":\"histogram2dcontour\"}],\"histogram2d\":[{\"colorbar\":{\"outlinewidth\":0,\"ticks\":\"\"},\"colorscale\":[[0.0,\"#0d0887\"],[0.1111111111111111,\"#46039f\"],[0.2222222222222222,\"#7201a8\"],[0.3333333333333333,\"#9c179e\"],[0.4444444444444444,\"#bd3786\"],[0.5555555555555556,\"#d8576b\"],[0.6666666666666666,\"#ed7953\"],[0.7777777777777778,\"#fb9f3a\"],[0.8888888888888888,\"#fdca26\"],[1.0,\"#f0f921\"]],\"type\":\"histogram2d\"}],\"histogram\":[{\"marker\":{\"pattern\":{\"fillmode\":\"overlay\",\"size\":10,\"solidity\":0.2}},\"type\":\"histogram\"}],\"mesh3d\":[{\"colorbar\":{\"outlinewidth\":0,\"ticks\":\"\"},\"type\":\"mesh3d\"}],\"parcoords\":[{\"line\":{\"colorbar\":{\"outlinewidth\":0,\"ticks\":\"\"}},\"type\":\"parcoords\"}],\"pie\":[{\"automargin\":true,\"type\":\"pie\"}],\"scatter3d\":[{\"line\":{\"colorbar\":{\"outlinewidth\":0,\"ticks\":\"\"}},\"marker\":{\"colorbar\":{\"outlinewidth\":0,\"ticks\":\"\"}},\"type\":\"scatter3d\"}],\"scattercarpet\":[{\"marker\":{\"colorbar\":{\"outlinewidth\":0,\"ticks\":\"\"}},\"type\":\"scattercarpet\"}],\"scattergeo\":[{\"marker\":{\"colorbar\":{\"outlinewidth\":0,\"ticks\":\"\"}},\"type\":\"scattergeo\"}],\"scattergl\":[{\"marker\":{\"colorbar\":{\"outlinewidth\":0,\"ticks\":\"\"}},\"type\":\"scattergl\"}],\"scattermapbox\":[{\"marker\":{\"colorbar\":{\"outlinewidth\":0,\"ticks\":\"\"}},\"type\":\"scattermapbox\"}],\"scatterpolargl\":[{\"marker\":{\"colorbar\":{\"outlinewidth\":0,\"ticks\":\"\"}},\"type\":\"scatterpolargl\"}],\"scatterpolar\":[{\"marker\":{\"colorbar\":{\"outlinewidth\":0,\"ticks\":\"\"}},\"type\":\"scatterpolar\"}],\"scatter\":[{\"fillpattern\":{\"fillmode\":\"overlay\",\"size\":10,\"solidity\":0.2},\"type\":\"scatter\"}],\"scatterternary\":[{\"marker\":{\"colorbar\":{\"outlinewidth\":0,\"ticks\":\"\"}},\"type\":\"scatterternary\"}],\"surface\":[{\"colorbar\":{\"outlinewidth\":0,\"ticks\":\"\"},\"colorscale\":[[0.0,\"#0d0887\"],[0.1111111111111111,\"#46039f\"],[0.2222222222222222,\"#7201a8\"],[0.3333333333333333,\"#9c179e\"],[0.4444444444444444,\"#bd3786\"],[0.5555555555555556,\"#d8576b\"],[0.6666666666666666,\"#ed7953\"],[0.7777777777777778,\"#fb9f3a\"],[0.8888888888888888,\"#fdca26\"],[1.0,\"#f0f921\"]],\"type\":\"surface\"}],\"table\":[{\"cells\":{\"fill\":{\"color\":\"#EBF0F8\"},\"line\":{\"color\":\"white\"}},\"header\":{\"fill\":{\"color\":\"#C8D4E3\"},\"line\":{\"color\":\"white\"}},\"type\":\"table\"}]},\"layout\":{\"annotationdefaults\":{\"arrowcolor\":\"#2a3f5f\",\"arrowhead\":0,\"arrowwidth\":1},\"autotypenumbers\":\"strict\",\"coloraxis\":{\"colorbar\":{\"outlinewidth\":0,\"ticks\":\"\"}},\"colorscale\":{\"diverging\":[[0,\"#8e0152\"],[0.1,\"#c51b7d\"],[0.2,\"#de77ae\"],[0.3,\"#f1b6da\"],[0.4,\"#fde0ef\"],[0.5,\"#f7f7f7\"],[0.6,\"#e6f5d0\"],[0.7,\"#b8e186\"],[0.8,\"#7fbc41\"],[0.9,\"#4d9221\"],[1,\"#276419\"]],\"sequential\":[[0.0,\"#0d0887\"],[0.1111111111111111,\"#46039f\"],[0.2222222222222222,\"#7201a8\"],[0.3333333333333333,\"#9c179e\"],[0.4444444444444444,\"#bd3786\"],[0.5555555555555556,\"#d8576b\"],[0.6666666666666666,\"#ed7953\"],[0.7777777777777778,\"#fb9f3a\"],[0.8888888888888888,\"#fdca26\"],[1.0,\"#f0f921\"]],\"sequentialminus\":[[0.0,\"#0d0887\"],[0.1111111111111111,\"#46039f\"],[0.2222222222222222,\"#7201a8\"],[0.3333333333333333,\"#9c179e\"],[0.4444444444444444,\"#bd3786\"],[0.5555555555555556,\"#d8576b\"],[0.6666666666666666,\"#ed7953\"],[0.7777777777777778,\"#fb9f3a\"],[0.8888888888888888,\"#fdca26\"],[1.0,\"#f0f921\"]]},\"colorway\":[\"#636efa\",\"#EF553B\",\"#00cc96\",\"#ab63fa\",\"#FFA15A\",\"#19d3f3\",\"#FF6692\",\"#B6E880\",\"#FF97FF\",\"#FECB52\"],\"font\":{\"color\":\"#2a3f5f\"},\"geo\":{\"bgcolor\":\"white\",\"lakecolor\":\"white\",\"landcolor\":\"#E5ECF6\",\"showlakes\":true,\"showland\":true,\"subunitcolor\":\"white\"},\"hoverlabel\":{\"align\":\"left\"},\"hovermode\":\"closest\",\"mapbox\":{\"style\":\"light\"},\"paper_bgcolor\":\"white\",\"plot_bgcolor\":\"#E5ECF6\",\"polar\":{\"angularaxis\":{\"gridcolor\":\"white\",\"linecolor\":\"white\",\"ticks\":\"\"},\"bgcolor\":\"#E5ECF6\",\"radialaxis\":{\"gridcolor\":\"white\",\"linecolor\":\"white\",\"ticks\":\"\"}},\"scene\":{\"xaxis\":{\"backgroundcolor\":\"#E5ECF6\",\"gridcolor\":\"white\",\"gridwidth\":2,\"linecolor\":\"white\",\"showbackground\":true,\"ticks\":\"\",\"zerolinecolor\":\"white\"},\"yaxis\":{\"backgroundcolor\":\"#E5ECF6\",\"gridcolor\":\"white\",\"gridwidth\":2,\"linecolor\":\"white\",\"showbackground\":true,\"ticks\":\"\",\"zerolinecolor\":\"white\"},\"zaxis\":{\"backgroundcolor\":\"#E5ECF6\",\"gridcolor\":\"white\",\"gridwidth\":2,\"linecolor\":\"white\",\"showbackground\":true,\"ticks\":\"\",\"zerolinecolor\":\"white\"}},\"shapedefaults\":{\"line\":{\"color\":\"#2a3f5f\"}},\"ternary\":{\"aaxis\":{\"gridcolor\":\"white\",\"linecolor\":\"white\",\"ticks\":\"\"},\"baxis\":{\"gridcolor\":\"white\",\"linecolor\":\"white\",\"ticks\":\"\"},\"bgcolor\":\"#E5ECF6\",\"caxis\":{\"gridcolor\":\"white\",\"linecolor\":\"white\",\"ticks\":\"\"}},\"title\":{\"x\":0.05},\"xaxis\":{\"automargin\":true,\"gridcolor\":\"white\",\"linecolor\":\"white\",\"ticks\":\"\",\"title\":{\"standoff\":15},\"zerolinecolor\":\"white\",\"zerolinewidth\":2},\"yaxis\":{\"automargin\":true,\"gridcolor\":\"white\",\"linecolor\":\"white\",\"ticks\":\"\",\"title\":{\"standoff\":15},\"zerolinecolor\":\"white\",\"zerolinewidth\":2}}},\"title\":{\"text\":\"\\uc804\\uccb4\\uac8c\\uc784 \\ub4f1\\uc7a5 \\ud69f\\uc218\\uc640 \\uc5d0\\ud53d\\ubaac\\uc2a4\\ud130 \\uc2a4\\ud2f8\\ud655\\ub960\"},\"xaxis\":{\"anchor\":\"y\",\"domain\":[0.0,1.0],\"title\":{\"text\":\"APCNT\"}},\"yaxis\":{\"anchor\":\"x\",\"domain\":[0.0,1.0],\"title\":{\"text\":\"STEALRATE\"}}},                        {\"responsive\": true}                    ).then(function(){\n",
       "                            \n",
       "var gd = document.getElementById('dd75b6f8-4d95-48d0-97b7-f02a9674fe25');\n",
       "var x = new MutationObserver(function (mutations, observer) {{\n",
       "        var display = window.getComputedStyle(gd).display;\n",
       "        if (!display || display === 'none') {{\n",
       "            console.log([gd, 'removed!']);\n",
       "            Plotly.purge(gd);\n",
       "            observer.disconnect();\n",
       "        }}\n",
       "}});\n",
       "\n",
       "// Listen for the removal of the full notebook cells\n",
       "var notebookContainer = gd.closest('#notebook-container');\n",
       "if (notebookContainer) {{\n",
       "    x.observe(notebookContainer, {childList: true});\n",
       "}}\n",
       "\n",
       "// Listen for the clearing of the current output cell\n",
       "var outputEl = gd.closest('.output');\n",
       "if (outputEl) {{\n",
       "    x.observe(outputEl, {childList: true});\n",
       "}}\n",
       "\n",
       "                        })                };                });            </script>        </div>"
      ]
     },
     "metadata": {},
     "output_type": "display_data"
    }
   ],
   "source": [
    "# 1번이라도 스틸을 한 데이터프레임\n",
    "condition = (my_df['EPICMONSTERSTEALS'] != 0)\n",
    "steal_df = my_df[condition]\n",
    "pd.set_option('display.max_columns', None)\n",
    "pd.set_option('display.max_rows', None)\n",
    "steal_df[:30]\n",
    "\n",
    "# WIN 컬럼을 1 or 0 으로 바꾸기 \n",
    "steal_df['WIN'] = steal_df['WIN'].apply(lambda x: 1 if x == 'True' else 0)\n",
    "\n",
    "# 챔피언별 에픽몬스터스틸 성공횟수와 승리횟수\n",
    "win_df = steal_df.groupby(['CHAMPIONNAME'])[['EPICMONSTERSTEALS','WIN']].sum()\n",
    "win_df.sort_values(by=['EPICMONSTERSTEALS'],ascending=False)[:10]\n",
    "\n",
    "# 에픽몬스터스틸을 성공한 챔피언별 총게임판수 \n",
    "cnt_df = steal_df.groupby(['CHAMPIONNAME'])[['WIN']].count().rename(columns = {'WIN':'CNT'})\n",
    "cnt_df.sort_values(by=['CNT'],ascending=False)[:10]\n",
    "\n",
    "# 전체게임에서 등장한 횟수\n",
    "ap_df = my_df.groupby(['CHAMPIONNAME'])[['WIN']].count().rename(columns = {'WIN':'APCNT'})\n",
    "\n",
    "# 데이터프레임 합치기 및 스틸 성공시 승률컬럼 추가 \n",
    "cnt_win_df = pd.merge(win_df,cnt_df,on = ['CHAMPIONNAME'])\n",
    "cnt_win_df['WINRATE'] = round(cnt_win_df.WIN / cnt_win_df.CNT,4)*100\n",
    "cnt_win_df.reset_index()\n",
    "cnt_win_df.sort_values(by=['EPICMONSTERSTEALS'],ascending=False)[:10]\n",
    "\n",
    "# 데이터프레임 합치기 및 스틸확률컬럼 추가 \n",
    "result_df = pd.merge(cnt_win_df,ap_df,on = ['CHAMPIONNAME'])\n",
    "result_df['STEALRATE'] = round(result_df.EPICMONSTERSTEALS/result_df.APCNT,4)*100\n",
    "result_df.sort_values(by=['STEALRATE'],ascending=False)[:10]\n",
    "\n",
    "#등장 횟수와 스틸확률 \n",
    "fig = px.scatter(result_df,\n",
    "                x = 'APCNT',\n",
    "                y = 'STEALRATE',\n",
    "                color = cnt_win_df.index,\n",
    "                title = '전체게임 등장 횟수와 에픽몬스터 스틸확률'\n",
    "                )\n",
    "plotly.offline.iplot(fig)"
   ]
  }
 ],
 "metadata": {
  "kernelspec": {
   "display_name": "Python 3 (ipykernel)",
   "language": "python",
   "name": "python3"
  },
  "language_info": {
   "codemirror_mode": {
    "name": "ipython",
    "version": 3
   },
   "file_extension": ".py",
   "mimetype": "text/x-python",
   "name": "python",
   "nbconvert_exporter": "python",
   "pygments_lexer": "ipython3",
   "version": "3.9.13"
  }
 },
 "nbformat": 4,
 "nbformat_minor": 5
}
